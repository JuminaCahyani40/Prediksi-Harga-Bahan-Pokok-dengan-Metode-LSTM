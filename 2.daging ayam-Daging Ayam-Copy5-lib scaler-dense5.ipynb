{
 "cells": [
  {
   "cell_type": "code",
   "execution_count": 291,
   "id": "74a82ee0",
   "metadata": {},
   "outputs": [],
   "source": [
    "import csv\n",
    "import pandas as pd\n",
    "import numpy as np\n",
    "from tensorflow import keras\n",
    "from tensorflow.keras import layers\n",
    "import matplotlib.pyplot as plt\n",
    "import statistics\n",
    "import math\n",
    "from sklearn.preprocessing import MinMaxScaler\n",
    "from sklearn.metrics import r2_score\n",
    "# from sklearn.metrics import classification_report\n",
    "from sklearn.metrics import accuracy_score\n",
    "from sklearn.metrics import mean_squared_error"
   ]
  },
  {
   "cell_type": "code",
   "execution_count": 292,
   "id": "dd1b65a0",
   "metadata": {},
   "outputs": [
    {
     "data": {
      "text/html": [
       "<div>\n",
       "<style scoped>\n",
       "    .dataframe tbody tr th:only-of-type {\n",
       "        vertical-align: middle;\n",
       "    }\n",
       "\n",
       "    .dataframe tbody tr th {\n",
       "        vertical-align: top;\n",
       "    }\n",
       "\n",
       "    .dataframe thead th {\n",
       "        text-align: right;\n",
       "    }\n",
       "</style>\n",
       "<table border=\"1\" class=\"dataframe\">\n",
       "  <thead>\n",
       "    <tr style=\"text-align: right;\">\n",
       "      <th></th>\n",
       "      <th>Tanggal</th>\n",
       "      <th>Daging Ayam</th>\n",
       "    </tr>\n",
       "  </thead>\n",
       "  <tbody>\n",
       "    <tr>\n",
       "      <th>0</th>\n",
       "      <td>2/1/2018</td>\n",
       "      <td>34800</td>\n",
       "    </tr>\n",
       "    <tr>\n",
       "      <th>1</th>\n",
       "      <td>3/1/2018</td>\n",
       "      <td>34750</td>\n",
       "    </tr>\n",
       "    <tr>\n",
       "      <th>2</th>\n",
       "      <td>4/1/2018</td>\n",
       "      <td>34400</td>\n",
       "    </tr>\n",
       "    <tr>\n",
       "      <th>3</th>\n",
       "      <td>5/1/2018</td>\n",
       "      <td>34550</td>\n",
       "    </tr>\n",
       "    <tr>\n",
       "      <th>4</th>\n",
       "      <td>8/1/2018</td>\n",
       "      <td>34700</td>\n",
       "    </tr>\n",
       "    <tr>\n",
       "      <th>...</th>\n",
       "      <td>...</td>\n",
       "      <td>...</td>\n",
       "    </tr>\n",
       "    <tr>\n",
       "      <th>898</th>\n",
       "      <td>3/9/2021</td>\n",
       "      <td>32500</td>\n",
       "    </tr>\n",
       "    <tr>\n",
       "      <th>899</th>\n",
       "      <td>6/9/2021</td>\n",
       "      <td>31750</td>\n",
       "    </tr>\n",
       "    <tr>\n",
       "      <th>900</th>\n",
       "      <td>7/9/2021</td>\n",
       "      <td>31500</td>\n",
       "    </tr>\n",
       "    <tr>\n",
       "      <th>901</th>\n",
       "      <td>8/9/2021</td>\n",
       "      <td>31450</td>\n",
       "    </tr>\n",
       "    <tr>\n",
       "      <th>902</th>\n",
       "      <td>9/9/2021</td>\n",
       "      <td>31700</td>\n",
       "    </tr>\n",
       "  </tbody>\n",
       "</table>\n",
       "<p>903 rows × 2 columns</p>\n",
       "</div>"
      ],
      "text/plain": [
       "      Tanggal  Daging Ayam\n",
       "0    2/1/2018        34800\n",
       "1    3/1/2018        34750\n",
       "2    4/1/2018        34400\n",
       "3    5/1/2018        34550\n",
       "4    8/1/2018        34700\n",
       "..        ...          ...\n",
       "898  3/9/2021        32500\n",
       "899  6/9/2021        31750\n",
       "900  7/9/2021        31500\n",
       "901  8/9/2021        31450\n",
       "902  9/9/2021        31700\n",
       "\n",
       "[903 rows x 2 columns]"
      ]
     },
     "execution_count": 292,
     "metadata": {},
     "output_type": "execute_result"
    }
   ],
   "source": [
    "df = pd.read_csv('datahargapangan nasional.csv', usecols=[\"Tanggal\", \"Daging Ayam\"])\n",
    "df"
   ]
  },
  {
   "cell_type": "code",
   "execution_count": 293,
   "id": "68f2b8db",
   "metadata": {
    "scrolled": true
   },
   "outputs": [],
   "source": [
    "# df.plot(x='Tanggal', y='Daging Ayam')"
   ]
  },
  {
   "cell_type": "markdown",
   "id": "5a664b7b",
   "metadata": {},
   "source": [
    "# Normalisasi"
   ]
  },
  {
   "cell_type": "code",
   "execution_count": 294,
   "id": "647946ea",
   "metadata": {},
   "outputs": [
    {
     "name": "stdout",
     "output_type": "stream",
     "text": [
      "Actual data    Daging Ayam\n",
      "0        34800\n",
      "1        34750\n",
      "2        34400\n",
      "3        34550\n",
      "4        34700\n",
      "Scale Data [[0.52727273]\n",
      " [0.52363636]\n",
      " [0.49818182]\n",
      " [0.50909091]\n",
      " [0.52      ]]\n",
      "(903, 1)\n"
     ]
    }
   ],
   "source": [
    "df2=df[[\"Daging Ayam\"]]\n",
    "scaler=MinMaxScaler()\n",
    "data_fit=scaler.fit(df2)\n",
    "data_scale=data_fit.transform(df2)\n",
    "print(\"Actual data\", df2[0:5])\n",
    "print(\"Scale Data\", data_scale[0:5])\n",
    "print(data_scale.shape)"
   ]
  },
  {
   "cell_type": "markdown",
   "id": "c521f9aa",
   "metadata": {},
   "source": [
    "# Timestep"
   ]
  },
  {
   "cell_type": "code",
   "execution_count": 295,
   "id": "32d19db2",
   "metadata": {},
   "outputs": [],
   "source": [
    "no=len(data_scale)\n",
    "timestep=7\n",
    "predictday=5\n",
    "exsam=[]\n",
    "yesam=[]\n",
    "for i in range(timestep, no-predictday):\n",
    "    xsam=data_scale[i-timestep:i]\n",
    "    ysam=data_scale[i:i+predictday]\n",
    "    exsam.append(xsam)\n",
    "    yesam.append(ysam)"
   ]
  },
  {
   "cell_type": "code",
   "execution_count": 296,
   "id": "a69940e1",
   "metadata": {},
   "outputs": [
    {
     "name": "stdout",
     "output_type": "stream",
     "text": [
      "(891, 7, 1)\n"
     ]
    }
   ],
   "source": [
    "xdata=np.array(exsam)\n",
    "xdata=xdata.reshape(xdata.shape[0],xdata.shape[1],1)\n",
    "print(xdata.shape)\n",
    "# print(xdata)"
   ]
  },
  {
   "cell_type": "code",
   "execution_count": 297,
   "id": "cc28ade8",
   "metadata": {},
   "outputs": [
    {
     "name": "stdout",
     "output_type": "stream",
     "text": [
      "(891, 5)\n"
     ]
    }
   ],
   "source": [
    "ydata=np.array(yesam)\n",
    "ydata=ydata.reshape(ydata.shape[0],ydata.shape[1])\n",
    "print(ydata.shape)\n",
    "# print(ydata)"
   ]
  },
  {
   "cell_type": "code",
   "execution_count": 298,
   "id": "54f6ddb9",
   "metadata": {},
   "outputs": [],
   "source": [
    "xdata_shape=xdata.shape[0]\n",
    "xdata_train=int(xdata_shape*0.90)\n",
    "\n",
    "ydata_shape=ydata.shape[0]\n",
    "ydata_train=int(ydata_shape*0.90)\n",
    "\n",
    "xtrain=xdata[:xdata_train]\n",
    "ytrain=ydata[:ydata_train]\n",
    "xtest=xdata[xdata_train:]\n",
    "ytest=ydata[ydata_train:]"
   ]
  },
  {
   "cell_type": "code",
   "execution_count": 299,
   "id": "ecbfc0f0",
   "metadata": {},
   "outputs": [
    {
     "name": "stdout",
     "output_type": "stream",
     "text": [
      "(801, 7, 1)\n",
      "(801, 5)\n",
      "(90, 7, 1)\n",
      "(90, 5)\n"
     ]
    }
   ],
   "source": [
    "print(xtrain.shape)\n",
    "print(ytrain.shape)\n",
    "print(xtest.shape)\n",
    "print(ytest.shape)"
   ]
  },
  {
   "cell_type": "code",
   "execution_count": 300,
   "id": "d5534210",
   "metadata": {},
   "outputs": [
    {
     "name": "stdout",
     "output_type": "stream",
     "text": [
      "[[0.52727273]\n",
      " [0.52363636]\n",
      " [0.49818182]\n",
      " [0.50909091]\n",
      " [0.52      ]\n",
      " [0.53818182]\n",
      " [0.55272727]]\n",
      "====>\n",
      "[0.55272727 0.54909091 0.52       0.51272727 0.49818182]\n",
      "####################\n",
      "[[0.52363636]\n",
      " [0.49818182]\n",
      " [0.50909091]\n",
      " [0.52      ]\n",
      " [0.53818182]\n",
      " [0.55272727]\n",
      " [0.55272727]]\n",
      "====>\n",
      "[0.54909091 0.52       0.51272727 0.49818182 0.48727273]\n",
      "####################\n"
     ]
    }
   ],
   "source": [
    "for inp, out in zip(xtrain[0:2], ytrain[0:2]):\n",
    "    print(inp)\n",
    "    print('====>')\n",
    "    print(out)\n",
    "    print('#'*20)"
   ]
  },
  {
   "cell_type": "markdown",
   "id": "9d60ad84",
   "metadata": {},
   "source": [
    "# Training LSTM"
   ]
  },
  {
   "cell_type": "code",
   "execution_count": 301,
   "id": "9a5991e5",
   "metadata": {},
   "outputs": [],
   "source": [
    "# optimizer = keras.optimizers.Adam(learning_rate=0.001)\n",
    "# optimizer=keras.optimizers.Adagrad(learning_rate=0.001,initial_accumulator_value=0.1,epsilon=1e-07,name=\"Adagrad\")\n",
    "optimizer = keras.optimizers.RMSprop(learning_rate=0.001, rho=0.9, momentum=0.0, epsilon=1e-07, centered=False, name='RMSprop')"
   ]
  },
  {
   "cell_type": "code",
   "execution_count": 302,
   "id": "dc8419b0",
   "metadata": {},
   "outputs": [],
   "source": [
    "model = keras.Sequential()\n",
    "model.add(layers.LSTM(10, input_shape=(7,1), return_sequences=True))\n",
    "model.add(layers.LSTM(5, return_sequences=True))\n",
    "model.add(layers.LSTM(5, return_sequences=False))\n",
    "model.add(layers.Dense(5))\n",
    "model.compile(loss='mean_squared_error', optimizer=optimizer, metrics=['accuracy'])"
   ]
  },
  {
   "cell_type": "code",
   "execution_count": 303,
   "id": "93c7fd6a",
   "metadata": {
    "scrolled": false
   },
   "outputs": [
    {
     "name": "stdout",
     "output_type": "stream",
     "text": [
      "Model: \"sequential_9\"\n",
      "_________________________________________________________________\n",
      "Layer (type)                 Output Shape              Param #   \n",
      "=================================================================\n",
      "lstm_23 (LSTM)               (None, 7, 10)             480       \n",
      "_________________________________________________________________\n",
      "lstm_24 (LSTM)               (None, 7, 5)              320       \n",
      "_________________________________________________________________\n",
      "lstm_25 (LSTM)               (None, 5)                 220       \n",
      "_________________________________________________________________\n",
      "dense_9 (Dense)              (None, 5)                 30        \n",
      "=================================================================\n",
      "Total params: 1,050\n",
      "Trainable params: 1,050\n",
      "Non-trainable params: 0\n",
      "_________________________________________________________________\n"
     ]
    }
   ],
   "source": [
    "model.summary()"
   ]
  },
  {
   "cell_type": "code",
   "execution_count": 304,
   "id": "5e4456e6",
   "metadata": {
    "scrolled": true
   },
   "outputs": [
    {
     "name": "stdout",
     "output_type": "stream",
     "text": [
      "Epoch 1/100\n",
      "13/13 [==============================] - 29s 37ms/step - loss: 0.2190 - accuracy: 0.3271\n",
      "Epoch 2/100\n",
      "13/13 [==============================] - 0s 22ms/step - loss: 0.1720 - accuracy: 0.3371\n",
      "Epoch 3/100\n",
      "13/13 [==============================] - 0s 18ms/step - loss: 0.1259 - accuracy: 0.3371\n",
      "Epoch 4/100\n",
      "13/13 [==============================] - 0s 24ms/step - loss: 0.0857 - accuracy: 0.1898\n",
      "Epoch 5/100\n",
      "13/13 [==============================] - 1s 56ms/step - loss: 0.0574 - accuracy: 0.0799\n",
      "Epoch 6/100\n",
      "13/13 [==============================] - 0s 23ms/step - loss: 0.0417 - accuracy: 0.0799\n",
      "Epoch 7/100\n",
      "13/13 [==============================] - 0s 31ms/step - loss: 0.0337 - accuracy: 0.0799\n",
      "Epoch 8/100\n",
      "13/13 [==============================] - 1s 43ms/step - loss: 0.0290 - accuracy: 0.0949\n",
      "Epoch 9/100\n",
      "13/13 [==============================] - 0s 23ms/step - loss: 0.0254 - accuracy: 0.1511\n",
      "Epoch 10/100\n",
      "13/13 [==============================] - 0s 21ms/step - loss: 0.0218 - accuracy: 0.1848 0s - loss: 0.0251 - accuracy: \n",
      "Epoch 11/100\n",
      "13/13 [==============================] - 0s 26ms/step - loss: 0.0188 - accuracy: 0.1848\n",
      "Epoch 12/100\n",
      "13/13 [==============================] - 0s 23ms/step - loss: 0.0165 - accuracy: 0.1273\n",
      "Epoch 13/100\n",
      "13/13 [==============================] - 0s 25ms/step - loss: 0.0149 - accuracy: 0.1498\n",
      "Epoch 14/100\n",
      "13/13 [==============================] - 0s 33ms/step - loss: 0.0140 - accuracy: 0.1336\n",
      "Epoch 15/100\n",
      "13/13 [==============================] - 0s 21ms/step - loss: 0.0132 - accuracy: 0.1411\n",
      "Epoch 16/100\n",
      "13/13 [==============================] - 0s 22ms/step - loss: 0.0132 - accuracy: 0.1423\n",
      "Epoch 17/100\n",
      "13/13 [==============================] - 0s 22ms/step - loss: 0.0128 - accuracy: 0.1323\n",
      "Epoch 18/100\n",
      "13/13 [==============================] - 0s 21ms/step - loss: 0.0125 - accuracy: 0.1498\n",
      "Epoch 19/100\n",
      "13/13 [==============================] - ETA: 0s - loss: 0.0123 - accuracy: 0.18 - 0s 22ms/step - loss: 0.0125 - accuracy: 0.1860\n",
      "Epoch 20/100\n",
      "13/13 [==============================] - 0s 22ms/step - loss: 0.0123 - accuracy: 0.2022\n",
      "Epoch 21/100\n",
      "13/13 [==============================] - 0s 21ms/step - loss: 0.0123 - accuracy: 0.2047\n",
      "Epoch 22/100\n",
      "13/13 [==============================] - 0s 20ms/step - loss: 0.0121 - accuracy: 0.3221\n",
      "Epoch 23/100\n",
      "13/13 [==============================] - 0s 21ms/step - loss: 0.0121 - accuracy: 0.3695\n",
      "Epoch 24/100\n",
      "13/13 [==============================] - 0s 18ms/step - loss: 0.0122 - accuracy: 0.4157\n",
      "Epoch 25/100\n",
      "13/13 [==============================] - 0s 18ms/step - loss: 0.0120 - accuracy: 0.4320\n",
      "Epoch 26/100\n",
      "13/13 [==============================] - 0s 19ms/step - loss: 0.0120 - accuracy: 0.4295\n",
      "Epoch 27/100\n",
      "13/13 [==============================] - 0s 17ms/step - loss: 0.0120 - accuracy: 0.4382\n",
      "Epoch 28/100\n",
      "13/13 [==============================] - 0s 18ms/step - loss: 0.0119 - accuracy: 0.4220\n",
      "Epoch 29/100\n",
      "13/13 [==============================] - 0s 20ms/step - loss: 0.0119 - accuracy: 0.4282\n",
      "Epoch 30/100\n",
      "13/13 [==============================] - 0s 18ms/step - loss: 0.0120 - accuracy: 0.4195\n",
      "Epoch 31/100\n",
      "13/13 [==============================] - 0s 20ms/step - loss: 0.0120 - accuracy: 0.4382\n",
      "Epoch 32/100\n",
      "13/13 [==============================] - 0s 19ms/step - loss: 0.0117 - accuracy: 0.4270\n",
      "Epoch 33/100\n",
      "13/13 [==============================] - 0s 19ms/step - loss: 0.0119 - accuracy: 0.4132\n",
      "Epoch 34/100\n",
      "13/13 [==============================] - 0s 20ms/step - loss: 0.0117 - accuracy: 0.4270\n",
      "Epoch 35/100\n",
      "13/13 [==============================] - 0s 16ms/step - loss: 0.0118 - accuracy: 0.4332\n",
      "Epoch 36/100\n",
      "13/13 [==============================] - 0s 14ms/step - loss: 0.0118 - accuracy: 0.4232\n",
      "Epoch 37/100\n",
      "13/13 [==============================] - 0s 19ms/step - loss: 0.0116 - accuracy: 0.4407\n",
      "Epoch 38/100\n",
      "13/13 [==============================] - 1s 46ms/step - loss: 0.0118 - accuracy: 0.4270\n",
      "Epoch 39/100\n",
      "13/13 [==============================] - 0s 17ms/step - loss: 0.0115 - accuracy: 0.4295\n",
      "Epoch 40/100\n",
      "13/13 [==============================] - 0s 16ms/step - loss: 0.0117 - accuracy: 0.4207\n",
      "Epoch 41/100\n",
      "13/13 [==============================] - 0s 18ms/step - loss: 0.0114 - accuracy: 0.4120 0s - loss: 0.0112 - accuracy: \n",
      "Epoch 42/100\n",
      "13/13 [==============================] - 0s 18ms/step - loss: 0.0117 - accuracy: 0.4282\n",
      "Epoch 43/100\n",
      "13/13 [==============================] - 0s 21ms/step - loss: 0.0114 - accuracy: 0.4207\n",
      "Epoch 44/100\n",
      "13/13 [==============================] - 0s 19ms/step - loss: 0.0116 - accuracy: 0.4045\n",
      "Epoch 45/100\n",
      "13/13 [==============================] - 0s 17ms/step - loss: 0.0115 - accuracy: 0.4220\n",
      "Epoch 46/100\n",
      "13/13 [==============================] - 0s 17ms/step - loss: 0.0114 - accuracy: 0.4007\n",
      "Epoch 47/100\n",
      "13/13 [==============================] - 0s 17ms/step - loss: 0.0113 - accuracy: 0.4257\n",
      "Epoch 48/100\n",
      "13/13 [==============================] - 0s 17ms/step - loss: 0.0115 - accuracy: 0.4120\n",
      "Epoch 49/100\n",
      "13/13 [==============================] - 0s 23ms/step - loss: 0.0116 - accuracy: 0.4207\n",
      "Epoch 50/100\n",
      "13/13 [==============================] - 0s 20ms/step - loss: 0.0113 - accuracy: 0.4170\n",
      "Epoch 51/100\n",
      "13/13 [==============================] - 0s 20ms/step - loss: 0.0113 - accuracy: 0.4257\n",
      "Epoch 52/100\n",
      "13/13 [==============================] - 0s 16ms/step - loss: 0.0112 - accuracy: 0.4120\n",
      "Epoch 53/100\n",
      "13/13 [==============================] - 0s 18ms/step - loss: 0.0112 - accuracy: 0.4307\n",
      "Epoch 54/100\n",
      "13/13 [==============================] - 0s 15ms/step - loss: 0.0112 - accuracy: 0.4020\n",
      "Epoch 55/100\n",
      "13/13 [==============================] - 0s 17ms/step - loss: 0.0112 - accuracy: 0.3970\n",
      "Epoch 56/100\n",
      "13/13 [==============================] - 0s 14ms/step - loss: 0.0111 - accuracy: 0.4107\n",
      "Epoch 57/100\n",
      "13/13 [==============================] - 0s 17ms/step - loss: 0.0110 - accuracy: 0.4107\n",
      "Epoch 58/100\n",
      "13/13 [==============================] - 0s 14ms/step - loss: 0.0112 - accuracy: 0.3970\n",
      "Epoch 59/100\n",
      "13/13 [==============================] - 0s 16ms/step - loss: 0.0111 - accuracy: 0.3883\n",
      "Epoch 60/100\n",
      "13/13 [==============================] - 0s 17ms/step - loss: 0.0109 - accuracy: 0.4170\n",
      "Epoch 61/100\n",
      "13/13 [==============================] - 0s 18ms/step - loss: 0.0110 - accuracy: 0.4082\n",
      "Epoch 62/100\n",
      "13/13 [==============================] - 0s 17ms/step - loss: 0.0109 - accuracy: 0.4070\n",
      "Epoch 63/100\n",
      "13/13 [==============================] - 0s 17ms/step - loss: 0.0109 - accuracy: 0.4095\n",
      "Epoch 64/100\n",
      "13/13 [==============================] - 0s 16ms/step - loss: 0.0108 - accuracy: 0.3908\n",
      "Epoch 65/100\n",
      "13/13 [==============================] - 0s 16ms/step - loss: 0.0108 - accuracy: 0.3870\n",
      "Epoch 66/100\n",
      "13/13 [==============================] - 0s 16ms/step - loss: 0.0107 - accuracy: 0.4170\n",
      "Epoch 67/100\n",
      "13/13 [==============================] - 0s 15ms/step - loss: 0.0108 - accuracy: 0.3945\n",
      "Epoch 68/100\n",
      "13/13 [==============================] - 0s 16ms/step - loss: 0.0107 - accuracy: 0.4182\n",
      "Epoch 69/100\n",
      "13/13 [==============================] - 0s 18ms/step - loss: 0.0105 - accuracy: 0.4007\n",
      "Epoch 70/100\n",
      "13/13 [==============================] - 0s 14ms/step - loss: 0.0105 - accuracy: 0.4070\n",
      "Epoch 71/100\n",
      "13/13 [==============================] - 0s 13ms/step - loss: 0.0105 - accuracy: 0.3933\n",
      "Epoch 72/100\n",
      "13/13 [==============================] - 0s 14ms/step - loss: 0.0104 - accuracy: 0.3770\n",
      "Epoch 73/100\n",
      "13/13 [==============================] - 0s 13ms/step - loss: 0.0104 - accuracy: 0.3945\n",
      "Epoch 74/100\n",
      "13/13 [==============================] - 0s 14ms/step - loss: 0.0104 - accuracy: 0.3608\n",
      "Epoch 75/100\n",
      "13/13 [==============================] - 0s 14ms/step - loss: 0.0103 - accuracy: 0.3833\n",
      "Epoch 76/100\n",
      "13/13 [==============================] - 0s 14ms/step - loss: 0.0102 - accuracy: 0.4032\n",
      "Epoch 77/100\n",
      "13/13 [==============================] - 0s 15ms/step - loss: 0.0101 - accuracy: 0.3808\n",
      "Epoch 78/100\n",
      "13/13 [==============================] - 0s 13ms/step - loss: 0.0103 - accuracy: 0.3695\n",
      "Epoch 79/100\n",
      "13/13 [==============================] - 0s 15ms/step - loss: 0.0101 - accuracy: 0.3695\n",
      "Epoch 80/100\n"
     ]
    },
    {
     "name": "stdout",
     "output_type": "stream",
     "text": [
      "13/13 [==============================] - 0s 21ms/step - loss: 0.0099 - accuracy: 0.4057 0s - loss: 0.0106 - accuracy: 0.\n",
      "Epoch 81/100\n",
      "13/13 [==============================] - 0s 21ms/step - loss: 0.0098 - accuracy: 0.3633\n",
      "Epoch 82/100\n",
      "13/13 [==============================] - 0s 14ms/step - loss: 0.0099 - accuracy: 0.3695\n",
      "Epoch 83/100\n",
      "13/13 [==============================] - 0s 14ms/step - loss: 0.0098 - accuracy: 0.3670\n",
      "Epoch 84/100\n",
      "13/13 [==============================] - 0s 15ms/step - loss: 0.0097 - accuracy: 0.3720\n",
      "Epoch 85/100\n",
      "13/13 [==============================] - 0s 14ms/step - loss: 0.0097 - accuracy: 0.3396\n",
      "Epoch 86/100\n",
      "13/13 [==============================] - 0s 17ms/step - loss: 0.0094 - accuracy: 0.3508\n",
      "Epoch 87/100\n",
      "13/13 [==============================] - 0s 14ms/step - loss: 0.0094 - accuracy: 0.3708\n",
      "Epoch 88/100\n",
      "13/13 [==============================] - 0s 14ms/step - loss: 0.0093 - accuracy: 0.3720\n",
      "Epoch 89/100\n",
      "13/13 [==============================] - 0s 15ms/step - loss: 0.0093 - accuracy: 0.3533\n",
      "Epoch 90/100\n",
      "13/13 [==============================] - 0s 14ms/step - loss: 0.0090 - accuracy: 0.3271\n",
      "Epoch 91/100\n",
      "13/13 [==============================] - 0s 15ms/step - loss: 0.0089 - accuracy: 0.3396\n",
      "Epoch 92/100\n",
      "13/13 [==============================] - 0s 15ms/step - loss: 0.0090 - accuracy: 0.3471\n",
      "Epoch 93/100\n",
      "13/13 [==============================] - 0s 14ms/step - loss: 0.0086 - accuracy: 0.3071\n",
      "Epoch 94/100\n",
      "13/13 [==============================] - 0s 14ms/step - loss: 0.0086 - accuracy: 0.3333\n",
      "Epoch 95/100\n",
      "13/13 [==============================] - 0s 19ms/step - loss: 0.0085 - accuracy: 0.2921\n",
      "Epoch 96/100\n",
      "13/13 [==============================] - 0s 15ms/step - loss: 0.0084 - accuracy: 0.3121\n",
      "Epoch 97/100\n",
      "13/13 [==============================] - 0s 14ms/step - loss: 0.0082 - accuracy: 0.2871\n",
      "Epoch 98/100\n",
      "13/13 [==============================] - 0s 13ms/step - loss: 0.0082 - accuracy: 0.3171\n",
      "Epoch 99/100\n",
      "13/13 [==============================] - 0s 13ms/step - loss: 0.0078 - accuracy: 0.2697\n",
      "Epoch 100/100\n",
      "13/13 [==============================] - 0s 15ms/step - loss: 0.0077 - accuracy: 0.2697\n"
     ]
    },
    {
     "data": {
      "text/plain": [
       "<keras.callbacks.History at 0x17b5df899d0>"
      ]
     },
     "execution_count": 304,
     "metadata": {},
     "output_type": "execute_result"
    }
   ],
   "source": [
    "model.fit(xtrain, ytrain, batch_size=64, epochs=100)"
   ]
  },
  {
   "cell_type": "code",
   "execution_count": 305,
   "id": "694717f4",
   "metadata": {},
   "outputs": [],
   "source": [
    "train_prediksi = model.predict(xtrain)\n",
    "test_prediksi = model.predict(xtest)"
   ]
  },
  {
   "cell_type": "code",
   "execution_count": 306,
   "id": "9d84dc5e",
   "metadata": {
    "scrolled": true
   },
   "outputs": [
    {
     "data": {
      "text/plain": [
       "0.7596049741125825"
      ]
     },
     "execution_count": 306,
     "metadata": {},
     "output_type": "execute_result"
    }
   ],
   "source": [
    "r2_score(ytrain,train_prediksi, multioutput='variance_weighted')"
   ]
  },
  {
   "cell_type": "code",
   "execution_count": 307,
   "id": "0c885336",
   "metadata": {
    "scrolled": true
   },
   "outputs": [
    {
     "data": {
      "text/plain": [
       "0.38859519982916646"
      ]
     },
     "execution_count": 307,
     "metadata": {},
     "output_type": "execute_result"
    }
   ],
   "source": [
    "r2_score(ytest,test_prediksi, multioutput='variance_weighted')"
   ]
  },
  {
   "cell_type": "code",
   "execution_count": 308,
   "id": "94f8288a",
   "metadata": {},
   "outputs": [
    {
     "data": {
      "text/plain": [
       "0.09075824327898681"
      ]
     },
     "execution_count": 308,
     "metadata": {},
     "output_type": "execute_result"
    }
   ],
   "source": [
    "math.sqrt(mean_squared_error(ytrain,train_prediksi))"
   ]
  },
  {
   "cell_type": "code",
   "execution_count": 309,
   "id": "f3e7206f",
   "metadata": {},
   "outputs": [
    {
     "data": {
      "text/plain": [
       "0.09894841012199172"
      ]
     },
     "execution_count": 309,
     "metadata": {},
     "output_type": "execute_result"
    }
   ],
   "source": [
    "math.sqrt(mean_squared_error(ytest,test_prediksi))"
   ]
  },
  {
   "cell_type": "code",
   "execution_count": 310,
   "id": "376716db",
   "metadata": {},
   "outputs": [
    {
     "name": "stdout",
     "output_type": "stream",
     "text": [
      "(801, 5)\n"
     ]
    }
   ],
   "source": [
    "# print(len(train_prediksi))\n",
    "# print(min(train_prJediksi))\n",
    "# print(max(train_prediksi))\n",
    "print(train_prediksi.shape)\n",
    "# print(test_prediksi.shape)\n",
    "# print(y_test.shape)"
   ]
  },
  {
   "cell_type": "markdown",
   "id": "6aa04560",
   "metadata": {},
   "source": [
    "# Denormalisasi"
   ]
  },
  {
   "cell_type": "code",
   "execution_count": 311,
   "id": "2a800103",
   "metadata": {
    "scrolled": true
   },
   "outputs": [
    {
     "name": "stdout",
     "output_type": "stream",
     "text": [
      "[32331.26  32364.266 32535.715 32510.803 32613.332]\n"
     ]
    }
   ],
   "source": [
    "nilai_testPred = data_fit.inverse_transform(test_prediksi)\n",
    "print(nilai_testPred[0])"
   ]
  },
  {
   "cell_type": "code",
   "execution_count": 312,
   "id": "4f05357e",
   "metadata": {},
   "outputs": [
    {
     "name": "stdout",
     "output_type": "stream",
     "text": [
      "[31850. 31400. 31550. 31200. 30850.]\n"
     ]
    }
   ],
   "source": [
    "nilai_testActual = data_fit.inverse_transform(ytest)\n",
    "print(nilai_testActual[0])"
   ]
  },
  {
   "cell_type": "code",
   "execution_count": 313,
   "id": "98328a58",
   "metadata": {},
   "outputs": [
    {
     "name": "stdout",
     "output_type": "stream",
     "text": [
      "[35306.29  35240.18  35167.42  35080.562 35132.74 ]\n"
     ]
    }
   ],
   "source": [
    "nilai_trainPred = data_fit.inverse_transform(train_prediksi)\n",
    "print(nilai_trainPred[0])"
   ]
  },
  {
   "cell_type": "code",
   "execution_count": 314,
   "id": "4d619c52",
   "metadata": {},
   "outputs": [
    {
     "name": "stdout",
     "output_type": "stream",
     "text": [
      "[35150. 35100. 34700. 34600. 34400.]\n"
     ]
    }
   ],
   "source": [
    "nilai_trainActual = data_fit.inverse_transform(ytrain)\n",
    "print(nilai_trainActual[0])"
   ]
  },
  {
   "cell_type": "markdown",
   "id": "97ce841e",
   "metadata": {},
   "source": [
    "# Ploting actual value vs predict value"
   ]
  },
  {
   "cell_type": "code",
   "execution_count": 325,
   "id": "4572679b",
   "metadata": {
    "scrolled": true
   },
   "outputs": [
    {
     "data": {
      "image/png": "[encoded data removed]",
      "text/plain": [
       "<Figure size 432x288 with 1 Axes>"
      ]
     },
     "metadata": {
      "needs_background": "light"
     },
     "output_type": "display_data"
    }
   ],
   "source": [
    "X=nilai_trainActual\n",
    "Y=nilai_trainPred\n",
    "C=[1,2,3,4,5]\n",
    "plt.scatter(C,X[5])\n",
    "plt.scatter(C,Y[5])\n",
    "# plt.plot(Y[2])\n",
    "plt.show()"
   ]
  },
  {
   "cell_type": "markdown",
   "id": "76c3f645",
   "metadata": {},
   "source": [
    "# Predicting the next 5 day"
   ]
  },
  {
   "cell_type": "code",
   "execution_count": 316,
   "id": "ae65ee9b",
   "metadata": {
    "scrolled": true
   },
   "outputs": [
    {
     "name": "stdout",
     "output_type": "stream",
     "text": [
      "(7, 1)\n"
     ]
    },
    {
     "data": {
      "text/plain": [
       "array([[0.35636364],\n",
       "       [0.36727273],\n",
       "       [0.36      ],\n",
       "       [0.30545455],\n",
       "       [0.28727273],\n",
       "       [0.28363636],\n",
       "       [0.30181818]])"
      ]
     },
     "execution_count": 316,
     "metadata": {},
     "output_type": "execute_result"
    }
   ],
   "source": [
    "data1=data_scale.shape[0]\n",
    "data2=data1-timestep\n",
    "data_7hariterakhir = data_scale[data2:]\n",
    "print(data_7hariterakhir.shape)\n",
    "data_7hariterakhir"
   ]
  },
  {
   "cell_type": "code",
   "execution_count": 317,
   "id": "8cddab90",
   "metadata": {},
   "outputs": [],
   "source": [
    "samples=1\n",
    "timest=data_7hariterakhir.shape[0]\n",
    "features=data_7hariterakhir.shape[1]"
   ]
  },
  {
   "cell_type": "code",
   "execution_count": 318,
   "id": "a53d490d",
   "metadata": {},
   "outputs": [
    {
     "data": {
      "text/plain": [
       "7"
      ]
     },
     "execution_count": 318,
     "metadata": {},
     "output_type": "execute_result"
    }
   ],
   "source": [
    "timest"
   ]
  },
  {
   "cell_type": "code",
   "execution_count": 319,
   "id": "8eeeec0f",
   "metadata": {},
   "outputs": [
    {
     "data": {
      "text/plain": [
       "1"
      ]
     },
     "execution_count": 319,
     "metadata": {},
     "output_type": "execute_result"
    }
   ],
   "source": [
    "features"
   ]
  },
  {
   "cell_type": "code",
   "execution_count": 320,
   "id": "92f975ac",
   "metadata": {},
   "outputs": [
    {
     "data": {
      "text/plain": [
       "(1, 7, 1)"
      ]
     },
     "execution_count": 320,
     "metadata": {},
     "output_type": "execute_result"
    }
   ],
   "source": [
    "data_direshape= data_7hariterakhir.reshape(samples, timest, features)\n",
    "data_direshape.shape"
   ]
  },
  {
   "cell_type": "code",
   "execution_count": 321,
   "id": "344fdb44",
   "metadata": {
    "scrolled": true
   },
   "outputs": [
    {
     "data": {
      "text/plain": [
       "array([[0.33660096, 0.3401706 , 0.35140187, 0.35100216, 0.35743237]],\n",
       "      dtype=float32)"
      ]
     },
     "execution_count": 321,
     "metadata": {},
     "output_type": "execute_result"
    }
   ],
   "source": [
    "next5days=model.predict(data_direshape)\n",
    "next5days"
   ]
  },
  {
   "cell_type": "code",
   "execution_count": 322,
   "id": "a629552c",
   "metadata": {},
   "outputs": [
    {
     "data": {
      "text/plain": [
       "array([[32178.264, 32227.346, 32381.775, 32376.281, 32464.695]],\n",
       "      dtype=float32)"
      ]
     },
     "execution_count": 322,
     "metadata": {},
     "output_type": "execute_result"
    }
   ],
   "source": [
    "next5days=data_fit.inverse_transform(next5days)\n",
    "next5days"
   ]
  },
  {
   "cell_type": "code",
   "execution_count": null,
   "id": "943453d8",
   "metadata": {},
   "outputs": [],
   "source": []
  }
 ],
 "metadata": {
  "kernelspec": {
   "display_name": "Python 3",
   "language": "python",
   "name": "python3"
  },
  "language_info": {
   "codemirror_mode": {
    "name": "ipython",
    "version": 3
   },
   "file_extension": ".py",
   "mimetype": "text/x-python",
   "name": "python",
   "nbconvert_exporter": "python",
   "pygments_lexer": "ipython3",
   "version": "3.8.8"
  }
 },
 "nbformat": 4,
 "nbformat_minor": 5
}
