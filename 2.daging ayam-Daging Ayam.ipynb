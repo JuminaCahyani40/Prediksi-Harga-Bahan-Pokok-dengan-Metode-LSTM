{
 "cells": [
  {
   "cell_type": "code",
   "execution_count": 2,
   "id": "74a82ee0",
   "metadata": {},
   "outputs": [],
   "source": [
    "import csv\n",
    "import pandas as pd\n",
    "import numpy as np\n",
    "from tensorflow import keras\n",
    "from tensorflow.keras import layers\n",
    "import matplotlib.pyplot as plt\n",
    "import statistics\n",
    "import math\n",
    "from sklearn.metrics import r2_score\n",
    "# from sklearn.metrics import classification_report\n",
    "from sklearn.metrics import accuracy_score\n",
    "from sklearn.metrics import mean_squared_error"
   ]
  },
  {
   "cell_type": "code",
   "execution_count": 3,
   "id": "dd1b65a0",
   "metadata": {},
   "outputs": [
    {
     "data": {
      "text/html": [
       "<div>\n",
       "<style scoped>\n",
       "    .dataframe tbody tr th:only-of-type {\n",
       "        vertical-align: middle;\n",
       "    }\n",
       "\n",
       "    .dataframe tbody tr th {\n",
       "        vertical-align: top;\n",
       "    }\n",
       "\n",
       "    .dataframe thead th {\n",
       "        text-align: right;\n",
       "    }\n",
       "</style>\n",
       "<table border=\"1\" class=\"dataframe\">\n",
       "  <thead>\n",
       "    <tr style=\"text-align: right;\">\n",
       "      <th></th>\n",
       "      <th>Tanggal</th>\n",
       "      <th>Daging Ayam</th>\n",
       "    </tr>\n",
       "  </thead>\n",
       "  <tbody>\n",
       "    <tr>\n",
       "      <th>0</th>\n",
       "      <td>6/1/2020</td>\n",
       "      <td>34200</td>\n",
       "    </tr>\n",
       "    <tr>\n",
       "      <th>1</th>\n",
       "      <td>7/1/2020</td>\n",
       "      <td>34000</td>\n",
       "    </tr>\n",
       "    <tr>\n",
       "      <th>2</th>\n",
       "      <td>8/1/2020</td>\n",
       "      <td>33950</td>\n",
       "    </tr>\n",
       "    <tr>\n",
       "      <th>3</th>\n",
       "      <td>9/1/2020</td>\n",
       "      <td>33850</td>\n",
       "    </tr>\n",
       "    <tr>\n",
       "      <th>4</th>\n",
       "      <td>10/1/2020</td>\n",
       "      <td>34050</td>\n",
       "    </tr>\n",
       "    <tr>\n",
       "      <th>...</th>\n",
       "      <td>...</td>\n",
       "      <td>...</td>\n",
       "    </tr>\n",
       "    <tr>\n",
       "      <th>401</th>\n",
       "      <td>3/9/2021</td>\n",
       "      <td>32500</td>\n",
       "    </tr>\n",
       "    <tr>\n",
       "      <th>402</th>\n",
       "      <td>6/9/2021</td>\n",
       "      <td>31750</td>\n",
       "    </tr>\n",
       "    <tr>\n",
       "      <th>403</th>\n",
       "      <td>7/9/2021</td>\n",
       "      <td>31500</td>\n",
       "    </tr>\n",
       "    <tr>\n",
       "      <th>404</th>\n",
       "      <td>8/9/2021</td>\n",
       "      <td>31450</td>\n",
       "    </tr>\n",
       "    <tr>\n",
       "      <th>405</th>\n",
       "      <td>9/9/2021</td>\n",
       "      <td>31700</td>\n",
       "    </tr>\n",
       "  </tbody>\n",
       "</table>\n",
       "<p>406 rows × 2 columns</p>\n",
       "</div>"
      ],
      "text/plain": [
       "       Tanggal  Daging Ayam\n",
       "0     6/1/2020        34200\n",
       "1     7/1/2020        34000\n",
       "2     8/1/2020        33950\n",
       "3     9/1/2020        33850\n",
       "4    10/1/2020        34050\n",
       "..         ...          ...\n",
       "401   3/9/2021        32500\n",
       "402   6/9/2021        31750\n",
       "403   7/9/2021        31500\n",
       "404   8/9/2021        31450\n",
       "405   9/9/2021        31700\n",
       "\n",
       "[406 rows x 2 columns]"
      ]
     },
     "execution_count": 3,
     "metadata": {},
     "output_type": "execute_result"
    }
   ],
   "source": [
    "df = pd.read_csv('data2020.csv', usecols=[\"Tanggal\", \"Daging Ayam\"])\n",
    "df"
   ]
  },
  {
   "cell_type": "code",
   "execution_count": 4,
   "id": "68f2b8db",
   "metadata": {},
   "outputs": [
    {
     "data": {
      "text/plain": [
       "<AxesSubplot:xlabel='Tanggal'>"
      ]
     },
     "execution_count": 4,
     "metadata": {},
     "output_type": "execute_result"
    },
    {
     "data": {
      "image/png": "[encoded data removed]",
      "text/plain": [
       "<Figure size 432x288 with 1 Axes>"
      ]
     },
     "metadata": {
      "needs_background": "light"
     },
     "output_type": "display_data"
    }
   ],
   "source": [
    "df.plot(x='Tanggal', y='Daging Ayam')"
   ]
  },
  {
   "cell_type": "markdown",
   "id": "8f0e1453",
   "metadata": {},
   "source": [
    "# Augmentasi"
   ]
  },
  {
   "cell_type": "code",
   "execution_count": 5,
   "id": "b5e7752f",
   "metadata": {},
   "outputs": [],
   "source": [
    "# das=np.std(df['Daging Ayam'])\n",
    "# das"
   ]
  },
  {
   "cell_type": "code",
   "execution_count": 147,
   "id": "3de051fd",
   "metadata": {},
   "outputs": [],
   "source": [
    "# generate = []\n",
    "# for i in range(5):\n",
    "#     for x in df.iterrows():\n",
    "#         generate.append(np.random.uniform(das))"
   ]
  },
  {
   "cell_type": "code",
   "execution_count": 148,
   "id": "03fda35d",
   "metadata": {},
   "outputs": [],
   "source": [
    "# print(len(generate))"
   ]
  },
  {
   "cell_type": "code",
   "execution_count": 149,
   "id": "259d0bdf",
   "metadata": {},
   "outputs": [],
   "source": [
    "# df = pd.DataFrame(generate)\n",
    "# df\n",
    "# # df.to_csv('newww.csv')"
   ]
  },
  {
   "cell_type": "markdown",
   "id": "5a664b7b",
   "metadata": {},
   "source": [
    "# Normalisasi"
   ]
  },
  {
   "cell_type": "code",
   "execution_count": 150,
   "id": "022f0a3b",
   "metadata": {},
   "outputs": [],
   "source": [
    "# minm=min(df)\n",
    "# maxm=max(df)\n",
    "# df1 = df.apply(lambda x:(x-minm)/(maxm-minm))\n",
    "# df1.shape"
   ]
  },
  {
   "cell_type": "code",
   "execution_count": 6,
   "id": "647946ea",
   "metadata": {},
   "outputs": [
    {
     "data": {
      "text/plain": [
       "0      0.556485\n",
       "1      0.539749\n",
       "2      0.535565\n",
       "3      0.527197\n",
       "4      0.543933\n",
       "         ...   \n",
       "401    0.414226\n",
       "402    0.351464\n",
       "403    0.330544\n",
       "404    0.326360\n",
       "405    0.347280\n",
       "Name: Daging Ayam, Length: 406, dtype: float64"
      ]
     },
     "execution_count": 6,
     "metadata": {},
     "output_type": "execute_result"
    }
   ],
   "source": [
    "minm=min(df['Daging Ayam'])\n",
    "maxm=max(df['Daging Ayam'])\n",
    "df1 = df['Daging Ayam'].apply(lambda x:(x-minm)/(maxm-minm))\n",
    "df1"
   ]
  },
  {
   "cell_type": "markdown",
   "id": "89aa8233",
   "metadata": {},
   "source": [
    "# Normal Distribution"
   ]
  },
  {
   "cell_type": "code",
   "execution_count": 7,
   "id": "da53bcc3",
   "metadata": {},
   "outputs": [
    {
     "name": "stdout",
     "output_type": "stream",
     "text": [
      "32802.463054187196\n"
     ]
    }
   ],
   "source": [
    "mean = np.mean(df[\"Daging Ayam\"])\n",
    "print(mean)"
   ]
  },
  {
   "cell_type": "code",
   "execution_count": 8,
   "id": "d1f06e73",
   "metadata": {},
   "outputs": [
    {
     "name": "stdout",
     "output_type": "stream",
     "text": [
      "32500.0\n"
     ]
    }
   ],
   "source": [
    "median = np.median(df[\"Daging Ayam\"])\n",
    "print(median)"
   ]
  },
  {
   "cell_type": "code",
   "execution_count": 9,
   "id": "36d42c46",
   "metadata": {},
   "outputs": [
    {
     "name": "stdout",
     "output_type": "stream",
     "text": [
      "2497.9782647566385\n"
     ]
    }
   ],
   "source": [
    "standardev = np.std(df[\"Daging Ayam\"])\n",
    "print(standardev)"
   ]
  },
  {
   "cell_type": "code",
   "execution_count": 10,
   "id": "61c3d426",
   "metadata": {},
   "outputs": [],
   "source": [
    "def normal_distribution(x, mean, standardev):\n",
    "    prob = 1/(2*(np.pi)*standardev) * np.exp(-0.5*((x-mean)/standardev)**2)\n",
    "    return prob\n",
    "\n",
    "pdf = normal_distribution(df[\"Daging Ayam\"], mean, standardev)"
   ]
  },
  {
   "cell_type": "code",
   "execution_count": 11,
   "id": "4afba92e",
   "metadata": {},
   "outputs": [
    {
     "data": {
      "text/plain": [
       "Text(0, 0.5, 'probability density')"
      ]
     },
     "execution_count": 11,
     "metadata": {},
     "output_type": "execute_result"
    },
    {
     "data": {
      "image/png": "[encoded data removed]",
      "text/plain": [
       "<Figure size 432x288 with 1 Axes>"
      ]
     },
     "metadata": {
      "needs_background": "light"
     },
     "output_type": "display_data"
    }
   ],
   "source": [
    "plt.scatter(df[\"Daging Ayam\"], pdf, color='red')\n",
    "plt.xlabel('data points')\n",
    "plt.ylabel('probability density')"
   ]
  },
  {
   "cell_type": "code",
   "execution_count": 12,
   "id": "794436cb",
   "metadata": {},
   "outputs": [
    {
     "name": "stdout",
     "output_type": "stream",
     "text": [
      "27550\n",
      "0      34200\n",
      "1      34000\n",
      "2      33950\n",
      "3      33850\n",
      "4      34050\n",
      "       ...  \n",
      "401    32500\n",
      "402    31750\n",
      "403    31500\n",
      "404    31450\n",
      "405    31700\n",
      "Name: Daging Ayam, Length: 406, dtype: int64\n"
     ]
    }
   ],
   "source": [
    "print(min(df['Daging Ayam']))\n",
    "print(df['Daging Ayam'])"
   ]
  },
  {
   "cell_type": "code",
   "execution_count": 14,
   "id": "248a2619",
   "metadata": {},
   "outputs": [
    {
     "data": {
      "text/plain": [
       "(406, 1)"
      ]
     },
     "execution_count": 14,
     "metadata": {},
     "output_type": "execute_result"
    }
   ],
   "source": [
    "df2 = np.array(df1).reshape(-1,1)\n",
    "df2.shape"
   ]
  },
  {
   "cell_type": "markdown",
   "id": "f144e36e",
   "metadata": {},
   "source": [
    "# eksperimen"
   ]
  },
  {
   "cell_type": "code",
   "execution_count": 14,
   "id": "1940f3e8",
   "metadata": {},
   "outputs": [
    {
     "name": "stdout",
     "output_type": "stream",
     "text": [
      "406\n"
     ]
    }
   ],
   "source": [
    "x=df2\n",
    "no=len(x)\n",
    "print(len(x))\n",
    "timestepss=10\n",
    "exsam=[]\n",
    "yesam=[]\n",
    "for i in range(timestepss, no, 1):\n",
    "    xsam=x[i-timestepss:i]\n",
    "    ysam=x[i]\n",
    "    exsam.append(xsam)\n",
    "    yesam.append(ysam)"
   ]
  },
  {
   "cell_type": "code",
   "execution_count": 13,
   "id": "3bf01370",
   "metadata": {},
   "outputs": [
    {
     "name": "stdout",
     "output_type": "stream",
     "text": [
      "(396, 10, 1)\n"
     ]
    }
   ],
   "source": [
    "xdata=np.array(exsam)\n",
    "xdata=xdata.reshape(xdata.shape[0],xdata.shape[1],1)\n",
    "print(xdata.shape)\n",
    "# print(xdata)"
   ]
  },
  {
   "cell_type": "code",
   "execution_count": 14,
   "id": "4d12eb31",
   "metadata": {},
   "outputs": [
    {
     "name": "stdout",
     "output_type": "stream",
     "text": [
      "(396, 1)\n"
     ]
    }
   ],
   "source": [
    "ydata=np.array(yesam)\n",
    "ydata=ydata.reshape(ydata.shape[0],1)\n",
    "print(ydata.shape)\n",
    "# print(ydata)"
   ]
  },
  {
   "cell_type": "code",
   "execution_count": 15,
   "id": "61a7f456",
   "metadata": {},
   "outputs": [],
   "source": [
    "testing=71\n",
    "xtr=xdata[:-testing]\n",
    "xts=xdata[-testing:]\n",
    "ytr=ydata[:-testing]\n",
    "yts=ydata[-testing:]"
   ]
  },
  {
   "cell_type": "code",
   "execution_count": 16,
   "id": "4918b09b",
   "metadata": {},
   "outputs": [
    {
     "name": "stdout",
     "output_type": "stream",
     "text": [
      "(325, 10, 1)\n",
      "(325, 1)\n",
      "(71, 10, 1)\n",
      "(71, 1)\n"
     ]
    }
   ],
   "source": [
    "print(xtr.shape)\n",
    "print(ytr.shape)\n",
    "print(xts.shape)\n",
    "print(yts.shape)"
   ]
  },
  {
   "cell_type": "code",
   "execution_count": 17,
   "id": "c68083eb",
   "metadata": {},
   "outputs": [
    {
     "name": "stdout",
     "output_type": "stream",
     "text": [
      "[[0.55648536]\n",
      " [0.53974895]\n",
      " [0.53556485]\n",
      " [0.52719665]\n",
      " [0.54393305]\n",
      " [0.50209205]\n",
      " [0.48953975]\n",
      " [0.47280335]\n",
      " [0.46861925]\n",
      " [0.46443515]] --- [0.43933054]\n",
      "[[0.53974895]\n",
      " [0.53556485]\n",
      " [0.52719665]\n",
      " [0.54393305]\n",
      " [0.50209205]\n",
      " [0.48953975]\n",
      " [0.47280335]\n",
      " [0.46861925]\n",
      " [0.46443515]\n",
      " [0.43933054]] --- [0.42677824]\n"
     ]
    }
   ],
   "source": [
    "for inp, out in zip(xtr[0:2],ytr[0:2]):\n",
    "    print(inp,'---',out)"
   ]
  },
  {
   "cell_type": "markdown",
   "id": "9ac7037d",
   "metadata": {},
   "source": [
    "# split data"
   ]
  },
  {
   "cell_type": "code",
   "execution_count": 15,
   "id": "a75d0e0a",
   "metadata": {},
   "outputs": [],
   "source": [
    "train = int(len(df2)*0.80)\n",
    "test = len(df2)-train\n",
    "data_train = df2[0:train, :]\n",
    "data_test = df2[train:len(df2), :1]"
   ]
  },
  {
   "cell_type": "code",
   "execution_count": 16,
   "id": "1c535bc0",
   "metadata": {},
   "outputs": [
    {
     "name": "stdout",
     "output_type": "stream",
     "text": [
      "[[0.55648536]\n",
      " [0.53974895]\n",
      " [0.53556485]\n",
      " [0.52719665]\n",
      " [0.54393305]\n",
      " [0.50209205]\n",
      " [0.48953975]\n",
      " [0.47280335]\n",
      " [0.46861925]\n",
      " [0.46443515]\n",
      " [0.43933054]\n",
      " [0.42677824]\n",
      " [0.40167364]\n",
      " [0.41841004]\n",
      " [0.41422594]\n",
      " [0.40167364]\n",
      " [0.40585774]\n",
      " [0.40585774]\n",
      " [0.40585774]\n",
      " [0.41004184]\n",
      " [0.40585774]\n",
      " [0.41004184]\n",
      " [0.41004184]\n",
      " [0.41422594]\n",
      " [0.42677824]\n",
      " [0.46025105]\n",
      " [0.47280335]\n",
      " [0.48535565]\n",
      " [0.49790795]\n",
      " [0.53974895]\n",
      " [0.56485356]\n",
      " [0.55648536]\n",
      " [0.53974895]\n",
      " [0.54393305]\n",
      " [0.55648536]\n",
      " [0.54393305]\n",
      " [0.53556485]\n",
      " [0.52719665]\n",
      " [0.50627615]\n",
      " [0.48953975]\n",
      " [0.46443515]\n",
      " [0.45188285]\n",
      " [0.45606695]\n",
      " [0.44351464]\n",
      " [0.41422594]\n",
      " [0.42259414]\n",
      " [0.41841004]\n",
      " [0.42259414]\n",
      " [0.41841004]\n",
      " [0.42677824]\n",
      " [0.44769874]\n",
      " [0.45188285]\n",
      " [0.45606695]\n",
      " [0.45606695]\n",
      " [0.45606695]\n",
      " [0.41841004]\n",
      " [0.40585774]\n",
      " [0.37238494]\n",
      " [0.37656904]\n",
      " [0.32217573]\n",
      " [0.30543933]\n",
      " [0.29288703]\n",
      " [0.27196653]\n",
      " [0.25941423]\n",
      " [0.16317992]\n",
      " [0.15899582]\n",
      " [0.15062762]\n",
      " [0.16317992]\n",
      " [0.15899582]\n",
      " [0.14644351]\n",
      " [0.13807531]\n",
      " [0.12133891]\n",
      " [0.10460251]\n",
      " [0.07531381]\n",
      " [0.08786611]\n",
      " [0.10460251]\n",
      " [0.11715481]\n",
      " [0.11715481]\n",
      " [0.07112971]\n",
      " [0.06694561]\n",
      " [0.07949791]\n",
      " [0.08368201]\n",
      " [0.11715481]\n",
      " [0.12552301]\n",
      " [0.13389121]\n",
      " [0.16736402]\n",
      " [0.26778243]\n",
      " [0.30125523]\n",
      " [0.34309623]\n",
      " [0.39330544]\n",
      " [0.43096234]\n",
      " [0.54811715]\n",
      " [0.56485356]\n",
      " [0.60251046]\n",
      " [0.80753138]\n",
      " [0.80334728]\n",
      " [0.85355649]\n",
      " [0.87866109]\n",
      " [0.89121339]\n",
      " [0.89539749]\n",
      " [0.92887029]\n",
      " [0.94142259]\n",
      " [0.9539749 ]\n",
      " [0.9623431 ]\n",
      " [0.94979079]\n",
      " [0.92468619]\n",
      " [0.91213389]\n",
      " [0.89539749]\n",
      " [0.88284519]\n",
      " [0.86192469]\n",
      " [0.80753138]\n",
      " [0.81171548]\n",
      " [0.81171548]\n",
      " [0.82426778]\n",
      " [0.82845188]\n",
      " [0.89539749]\n",
      " [0.92050209]\n",
      " [0.9539749 ]\n",
      " [0.9748954 ]\n",
      " [1.        ]\n",
      " [0.9790795 ]\n",
      " [0.9916318 ]\n",
      " [0.9539749 ]\n",
      " [0.94142259]\n",
      " [0.89539749]\n",
      " [0.73640167]\n",
      " [0.71548117]\n",
      " [0.68619247]\n",
      " [0.64853556]\n",
      " [0.62761506]\n",
      " [0.51046025]\n",
      " [0.50627615]\n",
      " [0.48117155]\n",
      " [0.46861925]\n",
      " [0.44769874]\n",
      " [0.48953975]\n",
      " [0.52301255]\n",
      " [0.56903766]\n",
      " [0.62761506]\n",
      " [0.57322176]\n",
      " [0.56485356]\n",
      " [0.54393305]\n",
      " [0.47280335]\n",
      " [0.48117155]\n",
      " [0.38912134]\n",
      " [0.34728033]\n",
      " [0.32217573]\n",
      " [0.30125523]\n",
      " [0.29707113]\n",
      " [0.30962343]\n",
      " [0.31380753]\n",
      " [0.28451883]\n",
      " [0.27196653]\n",
      " [0.24267782]\n",
      " [0.23012552]\n",
      " [0.20920502]\n",
      " [0.19246862]\n",
      " [0.20083682]\n",
      " [0.21757322]\n",
      " [0.23430962]\n",
      " [0.25104603]\n",
      " [0.29288703]\n",
      " [0.31380753]\n",
      " [0.32635983]\n",
      " [0.33054393]\n",
      " [0.34309623]\n",
      " [0.31380753]\n",
      " [0.30962343]\n",
      " [0.32217573]\n",
      " [0.33472803]\n",
      " [0.33472803]\n",
      " [0.38075314]\n",
      " [0.38493724]\n",
      " [0.39330544]\n",
      " [0.38075314]\n",
      " [0.38493724]\n",
      " [0.36401674]\n",
      " [0.34728033]\n",
      " [0.32635983]\n",
      " [0.32635983]\n",
      " [0.32217573]\n",
      " [0.32217573]\n",
      " [0.33472803]\n",
      " [0.33472803]\n",
      " [0.33891213]\n",
      " [0.34309623]\n",
      " [0.34728033]\n",
      " [0.36820084]\n",
      " [0.37238494]\n",
      " [0.38075314]\n",
      " [0.39330544]\n",
      " [0.41422594]\n",
      " [0.40585774]\n",
      " [0.41422594]\n",
      " [0.41422594]\n",
      " [0.41004184]\n",
      " [0.43933054]\n",
      " [0.46443515]\n",
      " [0.54811715]\n",
      " [0.55648536]\n",
      " [0.56903766]\n",
      " [0.58158996]\n",
      " [0.59414226]\n",
      " [0.61506276]\n",
      " [0.61506276]\n",
      " [0.62343096]\n",
      " [0.63179916]\n",
      " [0.63179916]\n",
      " [0.64853556]\n",
      " [0.65271967]\n",
      " [0.64016736]\n",
      " [0.64435146]\n",
      " [0.64853556]\n",
      " [0.64435146]\n",
      " [0.64853556]\n",
      " [0.65271967]\n",
      " [0.65690377]\n",
      " [0.64435146]\n",
      " [0.62761506]\n",
      " [0.62343096]\n",
      " [0.61087866]\n",
      " [0.60251046]\n",
      " [0.59414226]\n",
      " [0.57740586]\n",
      " [0.56903766]\n",
      " [0.58995816]\n",
      " [0.60669456]\n",
      " [0.65690377]\n",
      " [0.66945607]\n",
      " [0.69874477]\n",
      " [0.70292887]\n",
      " [0.71548117]\n",
      " [0.71548117]\n",
      " [0.74476987]\n",
      " [0.73221757]\n",
      " [0.71129707]\n",
      " [0.70711297]\n",
      " [0.71966527]\n",
      " [0.11715481]\n",
      " [0.14644351]\n",
      " [0.11297071]\n",
      " [0.15062762]\n",
      " [0.15481172]\n",
      " [0.15062762]\n",
      " [0.15899582]\n",
      " [0.17991632]\n",
      " [0.15899582]\n",
      " [0.15062762]\n",
      " [0.14225941]\n",
      " [0.13389121]\n",
      " [0.10041841]\n",
      " [0.06694561]\n",
      " [0.06694561]\n",
      " [0.0292887 ]\n",
      " [0.        ]\n",
      " [0.0292887 ]\n",
      " [0.0209205 ]\n",
      " [0.        ]\n",
      " [0.0041841 ]\n",
      " [0.0167364 ]\n",
      " [0.07531381]\n",
      " [0.07531381]\n",
      " [0.11715481]\n",
      " [0.28451883]\n",
      " [0.25941423]\n",
      " [0.27615063]\n",
      " [0.27615063]\n",
      " [0.32635983]\n",
      " [0.33472803]\n",
      " [0.34309623]\n",
      " [0.34728033]\n",
      " [0.35564854]\n",
      " [0.34728033]\n",
      " [0.33891213]\n",
      " [0.34309623]\n",
      " [0.31799163]\n",
      " [0.34309623]\n",
      " [0.29707113]\n",
      " [0.48535565]\n",
      " [0.45606695]\n",
      " [0.43933054]\n",
      " [0.46025105]\n",
      " [0.42677824]\n",
      " [0.43933054]\n",
      " [0.41004184]\n",
      " [0.37656904]\n",
      " [0.40167364]\n",
      " [0.40167364]\n",
      " [0.35146444]\n",
      " [0.36401674]\n",
      " [0.35983264]\n",
      " [0.43933054]\n",
      " [0.40585774]\n",
      " [0.41841004]\n",
      " [0.41004184]\n",
      " [0.40585774]\n",
      " [0.32217573]\n",
      " [0.33054393]\n",
      " [0.34309623]\n",
      " [0.35983264]\n",
      " [0.38912134]\n",
      " [0.39330544]\n",
      " [0.40167364]\n",
      " [0.38075314]\n",
      " [0.38912134]\n",
      " [0.41422594]\n",
      " [0.41004184]\n",
      " [0.37656904]\n",
      " [0.35983264]\n",
      " [0.36820084]\n",
      " [0.31380753]\n",
      " [0.35983264]\n",
      " [0.32217573]\n",
      " [0.33472803]\n",
      " [0.30543933]\n",
      " [0.27615063]\n",
      " [0.21757322]\n",
      " [0.22594142]\n",
      " [0.22175732]\n",
      " [0.21338912]\n",
      " [0.28451883]\n",
      " [0.31380753]\n",
      " [0.32635983]\n",
      " [0.30962343]]\n",
      "(82, 1)\n"
     ]
    }
   ],
   "source": [
    "print(data_train)\n",
    "print(data_test.shape)"
   ]
  },
  {
   "cell_type": "markdown",
   "id": "c521f9aa",
   "metadata": {},
   "source": [
    "# Timestep"
   ]
  },
  {
   "cell_type": "code",
   "execution_count": 17,
   "id": "b4b7458e",
   "metadata": {},
   "outputs": [],
   "source": [
    "def data(datadg, time_step):\n",
    "    X = []\n",
    "    Y = []\n",
    "    for i in range(len(datadg)-time_step-1):\n",
    "        X.append(datadg[i:(i+time_step),0])\n",
    "        Y.append(datadg[i+time_step, 0])\n",
    "    return np.array(X), np.array(Y)"
   ]
  },
  {
   "cell_type": "code",
   "execution_count": 18,
   "id": "4671af4f",
   "metadata": {},
   "outputs": [],
   "source": [
    "a=[]\n",
    "time=10\n",
    "nextday=5\n",
    "for i in range(len(x)-time-1):\n",
    "    aa=x[i:(i+time)]\n",
    "    a.append(aa)"
   ]
  },
  {
   "cell_type": "code",
   "execution_count": 22,
   "id": "bf6dc660",
   "metadata": {},
   "outputs": [
    {
     "name": "stdout",
     "output_type": "stream",
     "text": [
      "(10, 1)\n"
     ]
    }
   ],
   "source": [
    "xa=np.array(aa)\n",
    "print(xa.shape)"
   ]
  },
  {
   "cell_type": "code",
   "execution_count": 23,
   "id": "7b750da8",
   "metadata": {},
   "outputs": [
    {
     "name": "stdout",
     "output_type": "stream",
     "text": [
      "[[0.28870293]\n",
      " [0.29288703]\n",
      " [0.28870293]\n",
      " [0.35146444]\n",
      " [0.38912134]\n",
      " [0.41004184]\n",
      " [0.42259414]\n",
      " [0.41422594]\n",
      " [0.35146444]\n",
      " [0.33054393]]\n"
     ]
    }
   ],
   "source": [
    "print(xa)"
   ]
  },
  {
   "cell_type": "code",
   "execution_count": 24,
   "id": "00264ebf",
   "metadata": {},
   "outputs": [],
   "source": [
    "b=[]\n",
    "time=10\n",
    "day=5\n",
    "for i in range(len(x)-time-1):\n",
    "    bb=x[(i+time):(i+time+day)]\n",
    "    b.append(bb)"
   ]
  },
  {
   "cell_type": "code",
   "execution_count": 25,
   "id": "c3fcd797",
   "metadata": {},
   "outputs": [
    {
     "name": "stdout",
     "output_type": "stream",
     "text": [
      "(2, 1)\n",
      "[[0.32635983]\n",
      " [0.34728033]]\n"
     ]
    }
   ],
   "source": [
    "xb=np.array(bb)\n",
    "print(xb.shape)\n",
    "print(xb)"
   ]
  },
  {
   "cell_type": "code",
   "execution_count": 25,
   "id": "cf2e1275",
   "metadata": {},
   "outputs": [],
   "source": [
    "time_step = 7\n",
    "x_train, y_train = data(data_train, time_step)\n",
    "x_test, y_test = data(data_test, time_step)"
   ]
  },
  {
   "cell_type": "code",
   "execution_count": 26,
   "id": "66dc55f9",
   "metadata": {},
   "outputs": [
    {
     "name": "stdout",
     "output_type": "stream",
     "text": [
      "(316, 7)\n",
      "(316,)\n",
      "(74, 7)\n",
      "(74,)\n"
     ]
    }
   ],
   "source": [
    "print(x_train.shape)\n",
    "print(y_train.shape)\n",
    "print(x_test.shape)\n",
    "print(y_test.shape)"
   ]
  },
  {
   "cell_type": "markdown",
   "id": "9d60ad84",
   "metadata": {},
   "source": [
    "# Training LSTM"
   ]
  },
  {
   "cell_type": "code",
   "execution_count": 27,
   "id": "dbc1f8f9",
   "metadata": {},
   "outputs": [
    {
     "data": {
      "text/plain": [
       "(316, 7, 1)"
      ]
     },
     "execution_count": 27,
     "metadata": {},
     "output_type": "execute_result"
    }
   ],
   "source": [
    "x_train = x_train.reshape(x_train.shape[0],x_train.shape[1],1)\n",
    "x_test = x_test.reshape(x_test.shape[0],x_test.shape[1],1)\n",
    "x_train.shape"
   ]
  },
  {
   "cell_type": "code",
   "execution_count": 29,
   "id": "dada3d34",
   "metadata": {},
   "outputs": [
    {
     "name": "stdout",
     "output_type": "stream",
     "text": [
      "[[0.55648536]\n",
      " [0.53974895]\n",
      " [0.53556485]\n",
      " [0.52719665]\n",
      " [0.54393305]\n",
      " [0.50209205]\n",
      " [0.48953975]\n",
      " [0.47280335]\n",
      " [0.46861925]\n",
      " [0.46443515]] --- 0.4393305439330544\n",
      "[[0.53974895]\n",
      " [0.53556485]\n",
      " [0.52719665]\n",
      " [0.54393305]\n",
      " [0.50209205]\n",
      " [0.48953975]\n",
      " [0.47280335]\n",
      " [0.46861925]\n",
      " [0.46443515]\n",
      " [0.43933054]] --- 0.42677824267782427\n"
     ]
    }
   ],
   "source": [
    "for inp2, out2 in zip(x_train[0:2],y_train[0:2]):\n",
    "    print(inp2,'---',out2)"
   ]
  },
  {
   "cell_type": "code",
   "execution_count": 28,
   "id": "74520280",
   "metadata": {},
   "outputs": [
    {
     "name": "stdout",
     "output_type": "stream",
     "text": [
      "7\n",
      "1\n"
     ]
    }
   ],
   "source": [
    "print(x_train.shape[1])\n",
    "print(x_train.shape[2])"
   ]
  },
  {
   "cell_type": "code",
   "execution_count": 29,
   "id": "9a5991e5",
   "metadata": {},
   "outputs": [],
   "source": [
    "optimizer = keras.optimizers.Adam(learning_rate=0.01)"
   ]
  },
  {
   "cell_type": "code",
   "execution_count": 30,
   "id": "dc8419b0",
   "metadata": {},
   "outputs": [],
   "source": [
    "model = keras.Sequential()\n",
    "model.add(layers.LSTM(50, input_shape=(7,1)))\n",
    "# model.add(layers.LSTM(50, return_sequences=False))\n",
    "model.add(layers.Dense(1))\n",
    "model.compile(loss='mean_squared_error', optimizer=optimizer, metrics=['accuracy'])"
   ]
  },
  {
   "cell_type": "code",
   "execution_count": 31,
   "id": "93c7fd6a",
   "metadata": {},
   "outputs": [
    {
     "name": "stdout",
     "output_type": "stream",
     "text": [
      "Model: \"sequential_1\"\n",
      "_________________________________________________________________\n",
      "Layer (type)                 Output Shape              Param #   \n",
      "=================================================================\n",
      "lstm_1 (LSTM)                (None, 50)                10400     \n",
      "_________________________________________________________________\n",
      "dense_1 (Dense)              (None, 1)                 51        \n",
      "=================================================================\n",
      "Total params: 10,451\n",
      "Trainable params: 10,451\n",
      "Non-trainable params: 0\n",
      "_________________________________________________________________\n"
     ]
    }
   ],
   "source": [
    "model.summary()"
   ]
  },
  {
   "cell_type": "code",
   "execution_count": 32,
   "id": "5e4456e6",
   "metadata": {},
   "outputs": [
    {
     "name": "stdout",
     "output_type": "stream",
     "text": [
      "Epoch 1/100\n",
      "79/79 [==============================] - 41s 13ms/step - loss: 0.0170 - accuracy: 0.0095\n",
      "Epoch 2/100\n",
      "79/79 [==============================] - 1s 8ms/step - loss: 0.0060 - accuracy: 0.0095\n",
      "Epoch 3/100\n",
      "79/79 [==============================] - 1s 10ms/step - loss: 0.0037 - accuracy: 0.0095\n",
      "Epoch 4/100\n",
      "79/79 [==============================] - 1s 9ms/step - loss: 0.0028 - accuracy: 0.0095\n",
      "Epoch 5/100\n",
      "79/79 [==============================] - 1s 8ms/step - loss: 0.0030 - accuracy: 0.0095\n",
      "Epoch 6/100\n",
      "79/79 [==============================] - 1s 13ms/step - loss: 0.0029 - accuracy: 0.0095 0s - loss: 0.0032 - accura\n",
      "Epoch 7/100\n",
      "79/79 [==============================] - 1s 12ms/step - loss: 0.0026 - accuracy: 0.0095\n",
      "Epoch 8/100\n",
      "79/79 [==============================] - 1s 13ms/step - loss: 0.0028 - accuracy: 0.0095\n",
      "Epoch 9/100\n",
      "79/79 [==============================] - 1s 11ms/step - loss: 0.0028 - accuracy: 0.0095\n",
      "Epoch 10/100\n",
      "79/79 [==============================] - 1s 12ms/step - loss: 0.0028 - accuracy: 0.0095\n",
      "Epoch 11/100\n",
      "79/79 [==============================] - 1s 12ms/step - loss: 0.0024 - accuracy: 0.0095\n",
      "Epoch 12/100\n",
      "79/79 [==============================] - 0s 6ms/step - loss: 0.0032 - accuracy: 0.0095\n",
      "Epoch 13/100\n",
      "79/79 [==============================] - 1s 11ms/step - loss: 0.0027 - accuracy: 0.0095\n",
      "Epoch 14/100\n",
      "79/79 [==============================] - 1s 10ms/step - loss: 0.0030 - accuracy: 0.0095\n",
      "Epoch 15/100\n",
      "79/79 [==============================] - 1s 7ms/step - loss: 0.0027 - accuracy: 0.0095\n",
      "Epoch 16/100\n",
      "79/79 [==============================] - 1s 14ms/step - loss: 0.0031 - accuracy: 0.0095 0s - loss: 0.0031 - accuracy: 0.\n",
      "Epoch 17/100\n",
      "79/79 [==============================] - 1s 15ms/step - loss: 0.0024 - accuracy: 0.0095\n",
      "Epoch 18/100\n",
      "79/79 [==============================] - 1s 12ms/step - loss: 0.0028 - accuracy: 0.0095\n",
      "Epoch 19/100\n",
      "79/79 [==============================] - 1s 13ms/step - loss: 0.0031 - accuracy: 0.0095 0s - loss: 0.0085  - ETA: 0s - loss: 0.0034 - accuracy\n",
      "Epoch 20/100\n",
      "79/79 [==============================] - 1s 11ms/step - loss: 0.0025 - accuracy: 0.0095\n",
      "Epoch 21/100\n",
      "79/79 [==============================] - 1s 10ms/step - loss: 0.0038 - accuracy: 0.0095\n",
      "Epoch 22/100\n",
      "79/79 [==============================] - 0s 6ms/step - loss: 0.0028 - accuracy: 0.0095\n",
      "Epoch 23/100\n",
      "79/79 [==============================] - 1s 8ms/step - loss: 0.0028 - accuracy: 0.0095: 0s - loss: 0.0028 - accuracy\n",
      "Epoch 24/100\n",
      "79/79 [==============================] - 1s 7ms/step - loss: 0.0024 - accuracy: 0.0095\n",
      "Epoch 25/100\n",
      "79/79 [==============================] - 1s 17ms/step - loss: 0.0025 - accuracy: 0.0095 0s - loss: 0.0024 - accuracy: 0.\n",
      "Epoch 26/100\n",
      "79/79 [==============================] - 1s 13ms/step - loss: 0.0027 - accuracy: 0.0095\n",
      "Epoch 27/100\n",
      "79/79 [==============================] - 1s 16ms/step - loss: 0.0027 - accuracy: 0.0095    ETA: 4s - loss:\n",
      "Epoch 28/100\n",
      "79/79 [==============================] - 1s 10ms/step - loss: 0.0029 - accuracy: 0.0095\n",
      "Epoch 29/100\n",
      "79/79 [==============================] - 1s 7ms/step - loss: 0.0027 - accuracy: 0.0095\n",
      "Epoch 30/100\n",
      "79/79 [==============================] - 1s 6ms/step - loss: 0.0030 - accuracy: 0.0095\n",
      "Epoch 31/100\n",
      "79/79 [==============================] - 0s 6ms/step - loss: 0.0026 - accuracy: 0.0095\n",
      "Epoch 32/100\n",
      "79/79 [==============================] - 1s 7ms/step - loss: 0.0024 - accuracy: 0.0095 ETA: 0s - loss: 0.0028 - accuracy: 0.\n",
      "Epoch 33/100\n",
      "79/79 [==============================] - 1s 8ms/step - loss: 0.0025 - accuracy: 0.0095\n",
      "Epoch 34/100\n",
      "79/79 [==============================] - 1s 13ms/step - loss: 0.0029 - accuracy: 0.0095\n",
      "Epoch 35/100\n",
      "79/79 [==============================] - 2s 24ms/step - loss: 0.0025 - accuracy: 0.0095\n",
      "Epoch 36/100\n",
      "79/79 [==============================] - 1s 11ms/step - loss: 0.0030 - accuracy: 0.0095+ - ETA: 0s - loss: 4.629\n",
      "Epoch 37/100\n",
      "79/79 [==============================] - 1s 13ms/step - loss: 0.0028 - accuracy: 0.0095\n",
      "Epoch 38/100\n",
      "79/79 [==============================] - 1s 7ms/step - loss: 0.0028 - accuracy: 0.0095\n",
      "Epoch 39/100\n",
      "79/79 [==============================] - 1s 9ms/step - loss: 0.0027 - accuracy: 0.0095\n",
      "Epoch 40/100\n",
      "79/79 [==============================] - 1s 7ms/step - loss: 0.0026 - accuracy: 0.0095: 0s - loss: 0.0026 - accuracy: 0.01\n",
      "Epoch 41/100\n",
      "79/79 [==============================] - 1s 9ms/step - loss: 0.0028 - accuracy: 0.0095\n",
      "Epoch 42/100\n",
      "79/79 [==============================] - 1s 8ms/step - loss: 0.0029 - accuracy: 0.0095\n",
      "Epoch 43/100\n",
      "79/79 [==============================] - 1s 8ms/step - loss: 0.0024 - accuracy: 0.0095\n",
      "Epoch 44/100\n",
      "79/79 [==============================] - 1s 8ms/step - loss: 0.0023 - accuracy: 0.0095\n",
      "Epoch 45/100\n",
      "79/79 [==============================] - 1s 12ms/step - loss: 0.0027 - accuracy: 0.0095\n",
      "Epoch 46/100\n",
      "79/79 [==============================] - 1s 8ms/step - loss: 0.0024 - accuracy: 0.0095\n",
      "Epoch 47/100\n",
      "79/79 [==============================] - 1s 10ms/step - loss: 0.0027 - accuracy: 0.0095\n",
      "Epoch 48/100\n",
      "79/79 [==============================] - ETA: 0s - loss: 0.0028 - accuracy: 0.01 - 1s 7ms/step - loss: 0.0026 - accuracy: 0.0095\n",
      "Epoch 49/100\n",
      "79/79 [==============================] - 1s 8ms/step - loss: 0.0026 - accuracy: 0.0095\n",
      "Epoch 50/100\n",
      "79/79 [==============================] - 1s 7ms/step - loss: 0.0027 - accuracy: 0.0095\n",
      "Epoch 51/100\n",
      "79/79 [==============================] - 1s 7ms/step - loss: 0.0028 - accuracy: 0.0095\n",
      "Epoch 52/100\n",
      "79/79 [==============================] - 1s 7ms/step - loss: 0.0024 - accuracy: 0.0095\n",
      "Epoch 53/100\n",
      "79/79 [==============================] - 1s 7ms/step - loss: 0.0027 - accuracy: 0.0095\n",
      "Epoch 54/100\n",
      "79/79 [==============================] - 1s 9ms/step - loss: 0.0025 - accuracy: 0.0095\n",
      "Epoch 55/100\n",
      "79/79 [==============================] - 1s 10ms/step - loss: 0.0026 - accuracy: 0.0095- ETA: 0s - loss: 0.0041 - accuracy:  - ETA: 0s - loss: 0.0031 - ac\n",
      "Epoch 56/100\n",
      "79/79 [==============================] - 1s 7ms/step - loss: 0.0025 - accuracy: 0.0095\n",
      "Epoch 57/100\n",
      "79/79 [==============================] - 1s 12ms/step - loss: 0.0026 - accuracy: 0.0095\n",
      "Epoch 58/100\n",
      "79/79 [==============================] - 1s 9ms/step - loss: 0.0025 - accuracy: 0.0095\n",
      "Epoch 59/100\n",
      "79/79 [==============================] - 1s 7ms/step - loss: 0.0024 - accuracy: 0.0095\n",
      "Epoch 60/100\n",
      "79/79 [==============================] - 1s 7ms/step - loss: 0.0023 - accuracy: 0.0095\n",
      "Epoch 61/100\n",
      "79/79 [==============================] - 1s 7ms/step - loss: 0.0029 - accuracy: 0.0095\n",
      "Epoch 62/100\n",
      "79/79 [==============================] - 1s 9ms/step - loss: 0.0026 - accuracy: 0.0095\n",
      "Epoch 63/100\n",
      "79/79 [==============================] - 1s 7ms/step - loss: 0.0028 - accuracy: 0.0095e+ - ETA: 0s - loss: 4.2742e-04 - \n",
      "Epoch 64/100\n",
      "79/79 [==============================] - 1s 8ms/step - loss: 0.0026 - accuracy: 0.0095\n",
      "Epoch 65/100\n",
      "79/79 [==============================] - 1s 7ms/step - loss: 0.0025 - accuracy: 0.0095\n",
      "Epoch 66/100\n",
      "79/79 [==============================] - 1s 6ms/step - loss: 0.0024 - accuracy: 0.0095\n",
      "Epoch 67/100\n",
      "79/79 [==============================] - 1s 7ms/step - loss: 0.0026 - accuracy: 0.0095\n",
      "Epoch 68/100\n",
      "79/79 [==============================] - 0s 6ms/step - loss: 0.0025 - accuracy: 0.0095\n",
      "Epoch 69/100\n",
      "79/79 [==============================] - 1s 7ms/step - loss: 0.0023 - accuracy: 0.0095\n",
      "Epoch 70/100\n",
      "79/79 [==============================] - 1s 8ms/step - loss: 0.0028 - accuracy: 0.0095\n",
      "Epoch 71/100\n",
      "79/79 [==============================] - 1s 8ms/step - loss: 0.0025 - accuracy: 0.0095\n",
      "Epoch 72/100\n",
      "79/79 [==============================] - 1s 10ms/step - loss: 0.0026 - accuracy: 0.0095ETA: 0s - loss: 0.0029 - accuracy: 0.\n",
      "Epoch 73/100\n",
      "79/79 [==============================] - 1s 10ms/step - loss: 0.0024 - accuracy: 0.0095\n",
      "Epoch 74/100\n",
      "79/79 [==============================] - 1s 11ms/step - loss: 0.0027 - accuracy: 0.0095\n",
      "Epoch 75/100\n",
      "79/79 [==============================] - 1s 9ms/step - loss: 0.0024 - accuracy: 0.0095\n",
      "Epoch 76/100\n",
      "79/79 [==============================] - 1s 9ms/step - loss: 0.0025 - accuracy: 0.0095\n",
      "Epoch 77/100\n",
      "79/79 [==============================] - 1s 9ms/step - loss: 0.0022 - accuracy: 0.0095: 0s - loss: 0.0011 - accuracy\n",
      "Epoch 78/100\n",
      "79/79 [==============================] - 1s 11ms/step - loss: 0.0025 - accuracy: 0.0095\n",
      "Epoch 79/100\n",
      "79/79 [==============================] - 1s 10ms/step - loss: 0.0023 - accuracy: 0.0095\n",
      "Epoch 80/100\n",
      "79/79 [==============================] - 1s 9ms/step - loss: 0.0029 - accuracy: 0.0095\n",
      "Epoch 81/100\n",
      "79/79 [==============================] - 1s 9ms/step - loss: 0.0026 - accuracy: 0.0095\n",
      "Epoch 82/100\n",
      "79/79 [==============================] - 1s 8ms/step - loss: 0.0021 - accuracy: 0.0095\n",
      "Epoch 83/100\n",
      "79/79 [==============================] - 1s 8ms/step - loss: 0.0025 - accuracy: 0.0095\n",
      "Epoch 84/100\n",
      "79/79 [==============================] - 1s 9ms/step - loss: 0.0024 - accuracy: 0.0095\n",
      "Epoch 85/100\n",
      "79/79 [==============================] - 1s 8ms/step - loss: 0.0023 - accuracy: 0.0095\n",
      "Epoch 86/100\n",
      "79/79 [==============================] - 1s 9ms/step - loss: 0.0023 - accuracy: 0.0095\n",
      "Epoch 87/100\n",
      "79/79 [==============================] - 1s 11ms/step - loss: 0.0024 - accuracy: 0.0095\n",
      "Epoch 88/100\n",
      "79/79 [==============================] - 1s 8ms/step - loss: 0.0024 - accuracy: 0.0095\n",
      "Epoch 89/100\n",
      "79/79 [==============================] - 1s 8ms/step - loss: 0.0024 - accuracy: 0.0095\n",
      "Epoch 90/100\n",
      "79/79 [==============================] - 1s 7ms/step - loss: 0.0022 - accuracy: 0.0095\n",
      "Epoch 91/100\n",
      "79/79 [==============================] - 1s 9ms/step - loss: 0.0023 - accuracy: 0.0095 ETA: 0s - loss: 0.0010 - accuracy\n",
      "Epoch 92/100\n",
      "79/79 [==============================] - 1s 10ms/step - loss: 0.0024 - accuracy: 0.0095\n",
      "Epoch 93/100\n",
      "79/79 [==============================] - 1s 9ms/step - loss: 0.0026 - accuracy: 0.0095: 0s - loss: 0.0026 - accuracy: 0.00\n",
      "Epoch 94/100\n",
      "79/79 [==============================] - 1s 9ms/step - loss: 0.0024 - accuracy: 0.0095\n",
      "Epoch 95/100\n",
      "79/79 [==============================] - 1s 8ms/step - loss: 0.0024 - accuracy: 0.0095\n",
      "Epoch 96/100\n",
      "79/79 [==============================] - 1s 8ms/step - loss: 0.0022 - accuracy: 0.0095\n",
      "Epoch 97/100\n",
      "79/79 [==============================] - 1s 9ms/step - loss: 0.0024 - accuracy: 0.0095\n",
      "Epoch 98/100\n",
      "79/79 [==============================] - 1s 8ms/step - loss: 0.0022 - accuracy: 0.0095\n",
      "Epoch 99/100\n",
      "79/79 [==============================] - 1s 9ms/step - loss: 0.0026 - accuracy: 0.0095\n",
      "Epoch 100/100\n",
      "79/79 [==============================] - 1s 7ms/step - loss: 0.0025 - accuracy: 0.0095\n"
     ]
    },
    {
     "data": {
      "text/plain": [
       "<keras.callbacks.History at 0x19e02580b20>"
      ]
     },
     "execution_count": 32,
     "metadata": {},
     "output_type": "execute_result"
    }
   ],
   "source": [
    "model.fit(x_train, y_train, batch_size=4, epochs=100)"
   ]
  },
  {
   "cell_type": "code",
   "execution_count": 33,
   "id": "694717f4",
   "metadata": {},
   "outputs": [],
   "source": [
    "train_prediksi = model.predict(x_train)\n",
    "test_prediksi = model.predict(x_test)"
   ]
  },
  {
   "cell_type": "code",
   "execution_count": 34,
   "id": "9d84dc5e",
   "metadata": {},
   "outputs": [
    {
     "data": {
      "text/plain": [
       "0.9594611948915024"
      ]
     },
     "execution_count": 34,
     "metadata": {},
     "output_type": "execute_result"
    }
   ],
   "source": [
    "r2_score(y_train,train_prediksi)"
   ]
  },
  {
   "cell_type": "code",
   "execution_count": 35,
   "id": "94f8288a",
   "metadata": {},
   "outputs": [
    {
     "data": {
      "text/plain": [
       "0.045352687900219735"
      ]
     },
     "execution_count": 35,
     "metadata": {},
     "output_type": "execute_result"
    }
   ],
   "source": [
    "math.sqrt(mean_squared_error(y_train,train_prediksi))"
   ]
  },
  {
   "cell_type": "code",
   "execution_count": 36,
   "id": "0c885336",
   "metadata": {},
   "outputs": [
    {
     "data": {
      "text/plain": [
       "0.8589480586162561"
      ]
     },
     "execution_count": 36,
     "metadata": {},
     "output_type": "execute_result"
    }
   ],
   "source": [
    "r2_score(y_test,test_prediksi)"
   ]
  },
  {
   "cell_type": "code",
   "execution_count": 37,
   "id": "f3e7206f",
   "metadata": {},
   "outputs": [
    {
     "data": {
      "text/plain": [
       "0.05165817561231287"
      ]
     },
     "execution_count": 37,
     "metadata": {},
     "output_type": "execute_result"
    }
   ],
   "source": [
    "math.sqrt(mean_squared_error(y_test,test_prediksi))"
   ]
  },
  {
   "cell_type": "code",
   "execution_count": 38,
   "id": "00f04f39",
   "metadata": {},
   "outputs": [
    {
     "name": "stdout",
     "output_type": "stream",
     "text": [
      "[[0.4780733 ]\n",
      " [0.4593462 ]\n",
      " [0.45582977]\n",
      " [0.45673785]\n",
      " [0.4364908 ]\n",
      " [0.418967  ]\n",
      " [0.3941853 ]\n",
      " [0.4074531 ]\n",
      " [0.41374412]\n",
      " [0.4043706 ]\n",
      " [0.40461898]\n",
      " [0.40604344]\n",
      " [0.40722412]\n",
      " [0.41208076]\n",
      " [0.40902784]\n",
      " [0.41126326]\n",
      " [0.41222805]\n",
      " [0.41621065]\n",
      " [0.429185  ]\n",
      " [0.46458346]\n",
      " [0.48530945]\n",
      " [0.49666432]\n",
      " [0.50512904]\n",
      " [0.54283196]\n",
      " [0.576154  ]\n",
      " [0.5708105 ]\n",
      " [0.54209185]\n",
      " [0.53307074]\n",
      " [0.5459093 ]\n",
      " [0.5417653 ]\n",
      " [0.5307014 ]\n",
      " [0.51875365]\n",
      " [0.4973055 ]\n",
      " [0.4779627 ]\n",
      " [0.45309034]\n",
      " [0.4385236 ]\n",
      " [0.44453657]\n",
      " [0.4398848 ]\n",
      " [0.41193715]\n",
      " [0.41287267]\n",
      " [0.41443995]\n",
      " [0.42163742]\n",
      " [0.4207527 ]\n",
      " [0.4274179 ]\n",
      " [0.44933322]\n",
      " [0.45956826]\n",
      " [0.46234515]\n",
      " [0.45947957]\n",
      " [0.45641258]\n",
      " [0.41929775]\n",
      " [0.39636478]\n",
      " [0.36364144]\n",
      " [0.36458114]\n",
      " [0.32022765]\n",
      " [0.29591456]\n",
      " [0.28489107]\n",
      " [0.2692817 ]\n",
      " [0.25858817]\n",
      " [0.16390683]\n",
      " [0.14826827]\n",
      " [0.14500397]\n",
      " [0.1696597 ]\n",
      " [0.17384253]\n",
      " [0.1630535 ]\n",
      " [0.1503238 ]\n",
      " [0.13143557]\n",
      " [0.11421612]\n",
      " [0.08327702]\n",
      " [0.09935701]\n",
      " [0.11843503]\n",
      " [0.14114235]\n",
      " [0.1413295 ]\n",
      " [0.08780456]\n",
      " [0.07966122]\n",
      " [0.08781707]\n",
      " [0.10227749]\n",
      " [0.14323366]\n",
      " [0.15103656]\n",
      " [0.16175885]\n",
      " [0.19097853]\n",
      " [0.29661667]\n",
      " [0.34702033]\n",
      " [0.3881106 ]\n",
      " [0.42800584]\n",
      " [0.461586  ]\n",
      " [0.5727122 ]\n",
      " [0.6147616 ]\n",
      " [0.6356528 ]\n",
      " [0.81795955]\n",
      " [0.8748631 ]\n",
      " [0.8964324 ]\n",
      " [0.8969543 ]\n",
      " [0.8897649 ]\n",
      " [0.88515115]\n",
      " [0.9127376 ]\n",
      " [0.9301803 ]\n",
      " [0.9434906 ]\n",
      " [0.94925094]\n",
      " [0.933956  ]\n",
      " [0.9013667 ]\n",
      " [0.8792268 ]\n",
      " [0.86181855]\n",
      " [0.85050666]\n",
      " [0.83282197]\n",
      " [0.7804537 ]\n",
      " [0.7701466 ]\n",
      " [0.77871275]\n",
      " [0.80075645]\n",
      " [0.81478524]\n",
      " [0.8784634 ]\n",
      " [0.9230782 ]\n",
      " [0.9586768 ]\n",
      " [0.9765333 ]\n",
      " [0.9933531 ]\n",
      " [0.97133493]\n",
      " [0.9675138 ]\n",
      " [0.93128574]\n",
      " [0.9067817 ]\n",
      " [0.86207664]\n",
      " [0.7083472 ]\n",
      " [0.64660823]\n",
      " [0.6288775 ]\n",
      " [0.61022204]\n",
      " [0.598641  ]\n",
      " [0.4955888 ]\n",
      " [0.46324694]\n",
      " [0.45128652]\n",
      " [0.4494114 ]\n",
      " [0.43789294]\n",
      " [0.47772312]\n",
      " [0.525836  ]\n",
      " [0.5830866 ]\n",
      " [0.6478673 ]\n",
      " [0.6027148 ]\n",
      " [0.5589926 ]\n",
      " [0.5271133 ]\n",
      " [0.45811144]\n",
      " [0.45213157]\n",
      " [0.37837622]\n",
      " [0.32381755]\n",
      " [0.29976285]\n",
      " [0.28704232]\n",
      " [0.28988925]\n",
      " [0.31023777]\n",
      " [0.32187214]\n",
      " [0.29515576]\n",
      " [0.27420998]\n",
      " [0.24246392]\n",
      " [0.22792806]\n",
      " [0.20977436]\n",
      " [0.19469681]\n",
      " [0.20495191]\n",
      " [0.22780408]\n",
      " [0.25130618]\n",
      " [0.27123892]\n",
      " [0.3132409 ]\n",
      " [0.3386667 ]\n",
      " [0.34984648]\n",
      " [0.3480954 ]\n",
      " [0.35402453]\n",
      " [0.3242367 ]\n",
      " [0.31058192]\n",
      " [0.3219505 ]\n",
      " [0.34079176]\n",
      " [0.34602785]\n",
      " [0.3895942 ]\n",
      " [0.40309632]\n",
      " [0.40781546]\n",
      " [0.39071506]\n",
      " [0.38620785]\n",
      " [0.3658355 ]\n",
      " [0.345469  ]\n",
      " [0.32267377]\n",
      " [0.32129985]\n",
      " [0.3221793 ]\n",
      " [0.32562023]\n",
      " [0.33985823]\n",
      " [0.3437341 ]\n",
      " [0.34703714]\n",
      " [0.3505132 ]\n",
      " [0.35431552]\n",
      " [0.37479728]\n",
      " [0.38354355]\n",
      " [0.39036086]\n",
      " [0.40116718]\n",
      " [0.42201293]\n",
      " [0.41721737]\n",
      " [0.41898713]\n",
      " [0.41773802]\n",
      " [0.41249314]\n",
      " [0.43878597]\n",
      " [0.4717731 ]\n",
      " [0.55846524]\n",
      " [0.58868873]\n",
      " [0.5902274 ]\n",
      " [0.58794236]\n",
      " [0.59341973]\n",
      " [0.6128135 ]\n",
      " [0.6175393 ]\n",
      " [0.62061095]\n",
      " [0.6266112 ]\n",
      " [0.6268032 ]\n",
      " [0.6405307 ]\n",
      " [0.6484238 ]\n",
      " [0.63597393]\n",
      " [0.632679  ]\n",
      " [0.6365608 ]\n",
      " [0.6350802 ]\n",
      " [0.63829195]\n",
      " [0.6431091 ]\n",
      " [0.6480445 ]\n",
      " [0.63723624]\n",
      " [0.61619437]\n",
      " [0.6062482 ]\n",
      " [0.5957527 ]\n",
      " [0.5879538 ]\n",
      " [0.5808033 ]\n",
      " [0.5653404 ]\n",
      " [0.5548585 ]\n",
      " [0.5749525 ]\n",
      " [0.6013432 ]\n",
      " [0.65621233]\n",
      " [0.6822556 ]\n",
      " [0.7057881 ]\n",
      " [0.70793045]\n",
      " [0.71170807]\n",
      " [0.70889086]\n",
      " [0.73269266]\n",
      " [0.72839785]\n",
      " [0.7020211 ]\n",
      " [0.6866963 ]\n",
      " [0.6973702 ]\n",
      " [0.1729684 ]\n",
      " [0.07447815]\n",
      " [0.09233057]\n",
      " [0.12978938]\n",
      " [0.1548108 ]\n",
      " [0.17489877]\n",
      " [0.17675582]\n",
      " [0.19731452]\n",
      " [0.17717002]\n",
      " [0.16556251]\n",
      " [0.15199038]\n",
      " [0.14400603]\n",
      " [0.10974753]\n",
      " [0.07413387]\n",
      " [0.07373598]\n",
      " [0.03472999]\n",
      " [0.01383451]\n",
      " [0.04315215]\n",
      " [0.0351755 ]\n",
      " [0.02998701]\n",
      " [0.02243713]\n",
      " [0.03867146]\n",
      " [0.11050174]\n",
      " [0.10491744]\n",
      " [0.1616746 ]\n",
      " [0.32037926]\n",
      " [0.32146367]\n",
      " [0.32153127]\n",
      " [0.29678681]\n",
      " [0.33538178]\n",
      " [0.35435084]\n",
      " [0.36289695]\n",
      " [0.3605156 ]\n",
      " [0.36399814]\n",
      " [0.35510027]\n",
      " [0.3434755 ]\n",
      " [0.34444302]\n",
      " [0.32212555]\n",
      " [0.34174314]\n",
      " [0.30495936]\n",
      " [0.47668278]\n",
      " [0.506233  ]\n",
      " [0.4730329 ]\n",
      " [0.4628752 ]\n",
      " [0.42750257]\n",
      " [0.42962372]\n",
      " [0.40977734]\n",
      " [0.37132156]\n",
      " [0.3884323 ]\n",
      " [0.401531  ]\n",
      " [0.35775557]\n",
      " [0.3561804 ]\n",
      " [0.35696188]\n",
      " [0.43766877]\n",
      " [0.43164602]\n",
      " [0.42871183]\n",
      " [0.41394377]\n",
      " [0.40501672]\n",
      " [0.323757  ]\n",
      " [0.31226188]\n",
      " [0.33254188]\n",
      " [0.3628898 ]\n",
      " [0.4009939 ]\n",
      " [0.41123697]\n",
      " [0.4132863 ]\n",
      " [0.38911766]\n",
      " [0.3874841 ]\n",
      " [0.41382116]\n",
      " [0.41922924]\n",
      " [0.38440198]\n",
      " [0.35533315]\n",
      " [0.35935578]\n",
      " [0.31474888]\n",
      " [0.3501337 ]\n",
      " [0.32951382]\n",
      " [0.33561772]\n",
      " [0.3103283 ]\n",
      " [0.2759722 ]\n",
      " [0.21320489]\n",
      " [0.21575034]\n",
      " [0.22078876]\n",
      " [0.22098319]\n",
      " [0.29533902]\n",
      " [0.3406076 ]]\n"
     ]
    }
   ],
   "source": [
    "print(train_prediksi)"
   ]
  },
  {
   "cell_type": "code",
   "execution_count": 176,
   "id": "376716db",
   "metadata": {},
   "outputs": [
    {
     "name": "stdout",
     "output_type": "stream",
     "text": [
      "(288, 1)\n"
     ]
    }
   ],
   "source": [
    "# print(len(train_prediksi))\n",
    "# print(min(train_prJediksi))\n",
    "# print(max(train_prediksi))\n",
    "print(train_prediksi.shape)\n",
    "# print(test_prediksi.shape)\n",
    "# print(y_test.shape)"
   ]
  },
  {
   "cell_type": "markdown",
   "id": "6aa04560",
   "metadata": {},
   "source": [
    "# Denormalisasi"
   ]
  },
  {
   "cell_type": "code",
   "execution_count": 177,
   "id": "2a800103",
   "metadata": {},
   "outputs": [
    {
     "name": "stdout",
     "output_type": "stream",
     "text": [
      "(288,)\n"
     ]
    }
   ],
   "source": [
    "flat = train_prediksi.flatten()\n",
    "print(flat.shape)"
   ]
  },
  {
   "cell_type": "code",
   "execution_count": 178,
   "id": "1c01b741",
   "metadata": {},
   "outputs": [],
   "source": [
    "# print(flat)"
   ]
  },
  {
   "cell_type": "code",
   "execution_count": 179,
   "id": "9a5a8dc0",
   "metadata": {},
   "outputs": [],
   "source": [
    "def denorm1(abc):\n",
    "    p=[]\n",
    "    for i in flat:\n",
    "        u=np.array((i)*(maxm-minm)+minm)\n",
    "        p.append([u])\n",
    "    return(np.array(p))"
   ]
  },
  {
   "cell_type": "code",
   "execution_count": 180,
   "id": "0d8ba6af",
   "metadata": {},
   "outputs": [],
   "source": [
    "trt=denorm1(flat).flatten()"
   ]
  },
  {
   "cell_type": "code",
   "execution_count": 181,
   "id": "cadb57a7",
   "metadata": {},
   "outputs": [
    {
     "name": "stdout",
     "output_type": "stream",
     "text": [
      "(288,)\n"
     ]
    }
   ],
   "source": [
    "print(trt.shape)"
   ]
  },
  {
   "cell_type": "code",
   "execution_count": 182,
   "id": "a5ba7a56",
   "metadata": {},
   "outputs": [],
   "source": [
    "# print(trt)"
   ]
  },
  {
   "cell_type": "code",
   "execution_count": 183,
   "id": "4a69dcf2",
   "metadata": {},
   "outputs": [
    {
     "name": "stdout",
     "output_type": "stream",
     "text": [
      "(46, 1)\n",
      "(46,)\n"
     ]
    }
   ],
   "source": [
    "print(test_prediksi.shape)\n",
    "test1d = test_prediksi.flatten()\n",
    "print(test1d.shape)"
   ]
  },
  {
   "cell_type": "code",
   "execution_count": 184,
   "id": "cfa5dca1",
   "metadata": {},
   "outputs": [],
   "source": [
    "def denorm(dfg):\n",
    "    c=[]\n",
    "    for i in test1d:\n",
    "        b=np.array((i)*(maxm-minm)+minm)\n",
    "        c.append([b])\n",
    "    return(np.array(c))"
   ]
  },
  {
   "cell_type": "code",
   "execution_count": 185,
   "id": "465aad60",
   "metadata": {},
   "outputs": [],
   "source": [
    "tst=denorm(test1d).flatten()\n",
    "# print(tst)"
   ]
  },
  {
   "cell_type": "code",
   "execution_count": 186,
   "id": "fe92a762",
   "metadata": {},
   "outputs": [
    {
     "name": "stdout",
     "output_type": "stream",
     "text": [
      "(46,)\n"
     ]
    }
   ],
   "source": [
    "print(tst.shape)"
   ]
  },
  {
   "cell_type": "code",
   "execution_count": 187,
   "id": "781644f1",
   "metadata": {},
   "outputs": [],
   "source": [
    "trt1 = np.array(trt)\n",
    "tst1 = np.array(tst)\n",
    "prediction = np.concatenate((trt1, tst1))\n",
    "# print(prediction)"
   ]
  },
  {
   "cell_type": "code",
   "execution_count": null,
   "id": "eedf5a87",
   "metadata": {},
   "outputs": [],
   "source": []
  },
  {
   "cell_type": "markdown",
   "id": "97ce841e",
   "metadata": {},
   "source": [
    "# Ploting actual value vs predict value"
   ]
  },
  {
   "cell_type": "code",
   "execution_count": 188,
   "id": "0093db42",
   "metadata": {},
   "outputs": [
    {
     "data": {
      "image/png": "[encoded data removed]",
      "text/plain": [
       "<Figure size 1152x576 with 1 Axes>"
      ]
     },
     "metadata": {
      "needs_background": "light"
     },
     "output_type": "display_data"
    }
   ],
   "source": [
    "plt.figure(figsize=(16,8))\n",
    "plt.plot(df['Daging Ayam'])\n",
    "plt.plot(trt)\n",
    "plt.show()"
   ]
  },
  {
   "cell_type": "code",
   "execution_count": 189,
   "id": "09b1ab1b",
   "metadata": {
    "scrolled": true
   },
   "outputs": [
    {
     "data": {
      "image/png": "[encoded data removed]",
      "text/plain": [
       "<Figure size 1152x576 with 1 Axes>"
      ]
     },
     "metadata": {
      "needs_background": "light"
     },
     "output_type": "display_data"
    }
   ],
   "source": [
    "plt.figure(figsize=(16,8))\n",
    "plt.plot(df['Daging Ayam'])\n",
    "plt.plot(prediction)\n",
    "plt.show()"
   ]
  },
  {
   "cell_type": "code",
   "execution_count": 190,
   "id": "c2686ab8",
   "metadata": {},
   "outputs": [],
   "source": [
    "# df5=df[\"Daging Ayam\"]\n",
    "# df5.shape"
   ]
  },
  {
   "cell_type": "code",
   "execution_count": 191,
   "id": "19efd979",
   "metadata": {},
   "outputs": [],
   "source": [
    "# import numpy\n",
    "# ts=21\n",
    "# # shift train\n",
    "# trainplot=numpy.empty_like(df5)\n",
    "# trainplot[:, :]=numpy.nan\n",
    "# trainplot[ts:len(trt)+ts, : ]=trt\n",
    "\n",
    "# # shift test\n",
    "# testplot=numpy.empty_like(df5)\n",
    "# testplot[:, :]=numpy.nan\n",
    "# testplot[len(trt)+(ts*2)+1:len(df5)-1]=tst\n",
    "\n",
    "# plt.plot(df5)\n",
    "# plt.plot(trainplot)\n",
    "# plt.plot(testplot)\n",
    "# plt.show()"
   ]
  },
  {
   "cell_type": "markdown",
   "id": "3b7d1578",
   "metadata": {},
   "source": [
    "# Predicting the next 100 day"
   ]
  },
  {
   "cell_type": "code",
   "execution_count": 192,
   "id": "55345274",
   "metadata": {},
   "outputs": [],
   "source": [
    "# print(data_test)\n",
    "# print(len(data_test))"
   ]
  },
  {
   "cell_type": "code",
   "execution_count": 193,
   "id": "d9201471",
   "metadata": {},
   "outputs": [],
   "source": [
    "# x_input = data_test[75:].reshape(1,-1)\n",
    "# x_input.shape"
   ]
  },
  {
   "cell_type": "code",
   "execution_count": 194,
   "id": "427492f5",
   "metadata": {},
   "outputs": [],
   "source": [
    "# inputx=list(x_input)\n",
    "# inputx"
   ]
  },
  {
   "cell_type": "code",
   "execution_count": 195,
   "id": "e831a267",
   "metadata": {},
   "outputs": [],
   "source": [
    "# inputx=inputx[0].tolist()\n",
    "# inputx"
   ]
  },
  {
   "cell_type": "code",
   "execution_count": 196,
   "id": "d9f346f2",
   "metadata": {},
   "outputs": [],
   "source": [
    "# from numpy import array\n",
    "# lst_output=[]\n",
    "# timesteps=7\n",
    "# i=0\n",
    "# while(i<10):\n",
    "#     if(len(inputx)>7):\n",
    "#         x_input=np.array(inputx[1:])\n",
    "#         print(\"{} day input {}\".format(i,x_input))\n",
    "#         x_input=x_input.reshape(1,-1)\n",
    "#         x_input=x_input.reshape((1, timesteps, 1))\n",
    "#         #print(x_input)\n",
    "#         yhat=model.predict(x_input, verbose=0)\n",
    "#         print(\"{} day output {}\".format(i,yhat))\n",
    "#         inputx.extend(yhat[0].tolist())\n",
    "#         inputx=inputx[1:]\n",
    "#         #print(x_input)\n",
    "#         lst_output.extend(yhat.tolist())\n",
    "#         i=i+1\n",
    "#     else:\n",
    "#         x_input=x_input.reshape((1,timesteps,1))\n",
    "#         yhat=model.predict(x_input, verbose=0)\n",
    "#         print(yhat[0])\n",
    "#         inputx.extend(yhat[0].tolist())\n",
    "#         print(len(inputx))\n",
    "#         lst_output.extend(yhat.tolist())\n",
    "#         i=i+1\n",
    "# print(lst_output)"
   ]
  },
  {
   "cell_type": "code",
   "execution_count": 197,
   "id": "aca56d87",
   "metadata": {},
   "outputs": [],
   "source": [
    "# newday=np.arange(1,8)\n",
    "# prediksiday=np.arange(8,61)"
   ]
  },
  {
   "cell_type": "code",
   "execution_count": 198,
   "id": "3a65cdbd",
   "metadata": {},
   "outputs": [],
   "source": [
    "# len(df5)"
   ]
  },
  {
   "cell_type": "code",
   "execution_count": 199,
   "id": "53ef58b5",
   "metadata": {},
   "outputs": [],
   "source": [
    "# from sklearn.preprocessing import MinMaxScaler\n",
    "# scaler=MinMaxScaler(feature_range=(0,1))\n",
    "# df5=scaler.fit_transform(np.array(df5).reshape(-1,1))"
   ]
  },
  {
   "cell_type": "code",
   "execution_count": 200,
   "id": "e3736e14",
   "metadata": {
    "scrolled": true
   },
   "outputs": [],
   "source": [
    "# plt.plot(newday,scaler.inverse_transform(df2[309:]))\n",
    "# plt.plot(prediksiday,scaler.inverse_transform(lst_output))"
   ]
  },
  {
   "cell_type": "code",
   "execution_count": 201,
   "id": "554c3cf3",
   "metadata": {},
   "outputs": [],
   "source": [
    "# dff=df5.tolist()\n",
    "# dff.extend(lst_output)\n",
    "# plt.plot(df5[300:])"
   ]
  },
  {
   "cell_type": "code",
   "execution_count": 202,
   "id": "272c7fb6",
   "metadata": {},
   "outputs": [],
   "source": [
    "# dff=scaler.inverse_transform(df5).tolist()"
   ]
  },
  {
   "cell_type": "code",
   "execution_count": 203,
   "id": "455324b9",
   "metadata": {},
   "outputs": [],
   "source": [
    "# plt.plot(dff)"
   ]
  },
  {
   "cell_type": "code",
   "execution_count": null,
   "id": "21439e2a",
   "metadata": {},
   "outputs": [],
   "source": []
  }
 ],
 "metadata": {
  "kernelspec": {
   "display_name": "Python 3",
   "language": "python",
   "name": "python3"
  },
  "language_info": {
   "codemirror_mode": {
    "name": "ipython",
    "version": 3
   },
   "file_extension": ".py",
   "mimetype": "text/x-python",
   "name": "python",
   "nbconvert_exporter": "python",
   "pygments_lexer": "ipython3",
   "version": "3.8.8"
  }
 },
 "nbformat": 4,
 "nbformat_minor": 5
}
